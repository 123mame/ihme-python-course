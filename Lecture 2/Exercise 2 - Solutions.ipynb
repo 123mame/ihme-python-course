{
 "cells": [
  {
   "cell_type": "markdown",
   "metadata": {},
   "source": [
    "# Exercise 2"
   ]
  },
  {
   "cell_type": "markdown",
   "metadata": {},
   "source": [
    "### Part 1"
   ]
  },
  {
   "cell_type": "markdown",
   "metadata": {},
   "source": [
    "### Part 2"
   ]
  },
  {
   "cell_type": "markdown",
   "metadata": {},
   "source": [
    "### Part 3 - Factors\n",
    "\n",
    "Design a function which returns a list containing all of the [factors](https://en.wikipedia.org/wiki/Integer_factorization) of an integer\n",
    "\n",
    "E.g.: \n",
    "\n",
    "        10 -> [1, 2, 5, 10]\n",
    "        50 -> [1, 2, 5, 10, 25, 50]"
   ]
  },
  {
   "cell_type": "code",
   "execution_count": 1,
   "metadata": {
    "collapsed": true
   },
   "outputs": [],
   "source": [
    "def factors(n):\n",
    "    ''' Return a list containing the factors for integer n '''\n",
    "    fac = []\n",
    "    return fac"
   ]
  },
  {
   "cell_type": "code",
   "execution_count": 3,
   "metadata": {
    "collapsed": true
   },
   "outputs": [],
   "source": [
    "def factors(n):\n",
    "    ''' Return a list containing the factors for integer n '''\n",
    "    fac = []\n",
    "    for i in range(1,n+1):\n",
    "        if n % i == 0:\n",
    "            fac.append(i)\n",
    "    return fac"
   ]
  },
  {
   "cell_type": "code",
   "execution_count": 8,
   "metadata": {
    "collapsed": false
   },
   "outputs": [
    {
     "data": {
      "text/plain": [
       "[1, 2, 5, 10]"
      ]
     },
     "execution_count": 8,
     "metadata": {},
     "output_type": "execute_result"
    }
   ],
   "source": [
    "factors(10)"
   ]
  },
  {
   "cell_type": "code",
   "execution_count": 7,
   "metadata": {
    "collapsed": true
   },
   "outputs": [],
   "source": [
    "def one_line_factors(n):\n",
    "    ''' Return a list containing the factors for integer n '''\n",
    "    return [i for i in range(1,n+1) if n % i == 0]"
   ]
  },
  {
   "cell_type": "code",
   "execution_count": 9,
   "metadata": {
    "collapsed": false
   },
   "outputs": [
    {
     "data": {
      "text/plain": [
       "[1, 2, 5, 10]"
      ]
     },
     "execution_count": 9,
     "metadata": {},
     "output_type": "execute_result"
    }
   ],
   "source": [
    "one_line_factors(10)"
   ]
  },
  {
   "cell_type": "markdown",
   "metadata": {},
   "source": [
    "### Part 4 - Fibonacci Sequence\n",
    "\n",
    "Create a function which will return the first `n` numbers in the [Fibonacci sequence](https://en.wikipedia.org/wiki/Fibonacci_number) starting at 1 (1, 1, 2, 3, 5, 8, 13, ...)"
   ]
  },
  {
   "cell_type": "code",
   "execution_count": 4,
   "metadata": {
    "collapsed": true
   },
   "outputs": [],
   "source": [
    "def fib(n):\n",
    "    ''' Return the first n digits of the Fibonacci sequence '''\n",
    "    seq = []\n",
    "    return seq"
   ]
  },
  {
   "cell_type": "code",
   "execution_count": 9,
   "metadata": {
    "collapsed": true
   },
   "outputs": [],
   "source": [
    "def fib(n):\n",
    "    seq = [1,1]\n",
    "    while len(seq) < n:\n",
    "        seq.append(seq[-1] + seq[-2])\n",
    "    return seq"
   ]
  },
  {
   "cell_type": "code",
   "execution_count": 10,
   "metadata": {
    "collapsed": false
   },
   "outputs": [
    {
     "data": {
      "text/plain": [
       "[1, 1, 2, 3, 5, 8, 13, 21, 34, 55]"
      ]
     },
     "execution_count": 10,
     "metadata": {},
     "output_type": "execute_result"
    }
   ],
   "source": [
    "fib(10)"
   ]
  },
  {
   "cell_type": "code",
   "execution_count": 11,
   "metadata": {
    "collapsed": false
   },
   "outputs": [],
   "source": [
    "assert fib(10)[-1] == 55"
   ]
  },
  {
   "cell_type": "markdown",
   "metadata": {},
   "source": [
    "**Bonus**: Design a function that creates a simple \"graph\" of the Fibonacci sequence\n",
    "\n",
    "e.g.\n",
    "```\n",
    "#\n",
    "#\n",
    "##\n",
    "###\n",
    "#####\n",
    "########\n",
    "#############\n",
    "```\n",
    "\n",
    "_Hint_: Remember `string.join()?`"
   ]
  },
  {
   "cell_type": "code",
   "execution_count": 12,
   "metadata": {
    "collapsed": true
   },
   "outputs": [],
   "source": [
    "def fib_graph(n):\n",
    "    ''' Draw a graph of the first n digits of the Fibonacci sequence '''\n",
    "    seq = fib(n)\n",
    "    print(seq)"
   ]
  },
  {
   "cell_type": "code",
   "execution_count": 33,
   "metadata": {
    "collapsed": true
   },
   "outputs": [],
   "source": [
    "def fib_graph(n):\n",
    "    ''' Draw a graph of the first n digits of the Fibonacci sequence '''\n",
    "    seq = fib(n)\n",
    "    return '\\n'.join([''.join(['#' for i in range(x)]) for x in seq])"
   ]
  },
  {
   "cell_type": "code",
   "execution_count": 34,
   "metadata": {
    "collapsed": false
   },
   "outputs": [
    {
     "name": "stdout",
     "output_type": "stream",
     "text": [
      "#\n",
      "#\n",
      "##\n",
      "###\n",
      "#####\n",
      "########\n",
      "#############\n",
      "#####################\n",
      "##################################\n",
      "#######################################################\n"
     ]
    }
   ],
   "source": [
    "print(fib_graph(10))"
   ]
  }
 ],
 "metadata": {
  "anaconda-cloud": {},
  "kernelspec": {
   "display_name": "Python [conda root]",
   "language": "python",
   "name": "conda-root-py"
  },
  "language_info": {
   "codemirror_mode": {
    "name": "ipython",
    "version": 3
   },
   "file_extension": ".py",
   "mimetype": "text/x-python",
   "name": "python",
   "nbconvert_exporter": "python",
   "pygments_lexer": "ipython3",
   "version": "3.5.2"
  }
 },
 "nbformat": 4,
 "nbformat_minor": 1
}
