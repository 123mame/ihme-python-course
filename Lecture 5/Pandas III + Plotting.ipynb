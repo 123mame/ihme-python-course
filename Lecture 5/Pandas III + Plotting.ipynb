{
 "cells": [
  {
   "cell_type": "markdown",
   "metadata": {
    "slideshow": {
     "slide_type": "slide"
    }
   },
   "source": [
    "# Pandas III + Intro to Plotting"
   ]
  },
  {
   "cell_type": "markdown",
   "metadata": {
    "slideshow": {
     "slide_type": "slide"
    }
   },
   "source": [
    "### Sneak peak:"
   ]
  },
  {
   "cell_type": "code",
   "execution_count": 2,
   "metadata": {
    "collapsed": true
   },
   "outputs": [],
   "source": [
    "%matplotlib inline\n",
    "import pandas as pd\n",
    "import numpy as np\n",
    "import seaborn as sns\n",
    "import matplotlib.pyplot as plt\n",
    "\n",
    "pd.options.display.max_rows = 10\n",
    "sns.set(style='ticks', context='talk')\n",
    "plt.rcParams['figure.figsize'] = (12, 6)"
   ]
  },
  {
   "cell_type": "code",
   "execution_count": 6,
   "metadata": {
    "collapsed": false
   },
   "outputs": [
    {
     "data": {
      "text/html": [
       "<div>\n",
       "<table border=\"1\" class=\"dataframe\">\n",
       "  <thead>\n",
       "    <tr style=\"text-align: right;\">\n",
       "      <th></th>\n",
       "      <th>abv</th>\n",
       "      <th>beer_id</th>\n",
       "      <th>brewer_id</th>\n",
       "      <th>beer_name</th>\n",
       "      <th>beer_style</th>\n",
       "      <th>review_appearance</th>\n",
       "      <th>review_aroma</th>\n",
       "      <th>review_overall</th>\n",
       "      <th>review_palate</th>\n",
       "      <th>profile_name</th>\n",
       "      <th>review_taste</th>\n",
       "      <th>text</th>\n",
       "      <th>time</th>\n",
       "    </tr>\n",
       "  </thead>\n",
       "  <tbody>\n",
       "    <tr>\n",
       "      <th>0</th>\n",
       "      <td>7.0</td>\n",
       "      <td>2511</td>\n",
       "      <td>287</td>\n",
       "      <td>Bell's Cherry Stout</td>\n",
       "      <td>American Stout</td>\n",
       "      <td>4.5</td>\n",
       "      <td>4.0</td>\n",
       "      <td>4.5</td>\n",
       "      <td>4.0</td>\n",
       "      <td>blaheath</td>\n",
       "      <td>4.5</td>\n",
       "      <td>Batch 8144\\tPitch black in color with a 1/2 f...</td>\n",
       "      <td>2009-10-05 21:31:48</td>\n",
       "    </tr>\n",
       "    <tr>\n",
       "      <th>1</th>\n",
       "      <td>5.7</td>\n",
       "      <td>19736</td>\n",
       "      <td>9790</td>\n",
       "      <td>Duck-Rabbit Porter</td>\n",
       "      <td>American Porter</td>\n",
       "      <td>4.5</td>\n",
       "      <td>4.0</td>\n",
       "      <td>4.5</td>\n",
       "      <td>4.0</td>\n",
       "      <td>GJ40</td>\n",
       "      <td>4.0</td>\n",
       "      <td>Sampled from a 12oz bottle in a standard pint...</td>\n",
       "      <td>2009-10-05 21:32:09</td>\n",
       "    </tr>\n",
       "    <tr>\n",
       "      <th>2</th>\n",
       "      <td>4.8</td>\n",
       "      <td>11098</td>\n",
       "      <td>3182</td>\n",
       "      <td>Fürstenberg Premium Pilsener</td>\n",
       "      <td>German Pilsener</td>\n",
       "      <td>4.0</td>\n",
       "      <td>3.0</td>\n",
       "      <td>3.0</td>\n",
       "      <td>3.0</td>\n",
       "      <td>biegaman</td>\n",
       "      <td>3.5</td>\n",
       "      <td>Haystack yellow with an energetic group of bu...</td>\n",
       "      <td>2009-10-05 21:32:13</td>\n",
       "    </tr>\n",
       "    <tr>\n",
       "      <th>3</th>\n",
       "      <td>9.5</td>\n",
       "      <td>28577</td>\n",
       "      <td>3818</td>\n",
       "      <td>Unearthly (Imperial India Pale Ale)</td>\n",
       "      <td>American Double / Imperial IPA</td>\n",
       "      <td>4.0</td>\n",
       "      <td>4.0</td>\n",
       "      <td>4.0</td>\n",
       "      <td>4.0</td>\n",
       "      <td>nick76</td>\n",
       "      <td>4.0</td>\n",
       "      <td>The aroma has pine, wood, citrus, caramel, an...</td>\n",
       "      <td>2009-10-05 21:32:37</td>\n",
       "    </tr>\n",
       "    <tr>\n",
       "      <th>4</th>\n",
       "      <td>5.8</td>\n",
       "      <td>398</td>\n",
       "      <td>119</td>\n",
       "      <td>Wolaver's Pale Ale</td>\n",
       "      <td>American Pale Ale (APA)</td>\n",
       "      <td>4.0</td>\n",
       "      <td>3.0</td>\n",
       "      <td>4.0</td>\n",
       "      <td>3.5</td>\n",
       "      <td>champ103</td>\n",
       "      <td>3.0</td>\n",
       "      <td>A: Pours a slightly hazy golden/orange color....</td>\n",
       "      <td>2009-10-05 21:33:14</td>\n",
       "    </tr>\n",
       "  </tbody>\n",
       "</table>\n",
       "</div>"
      ],
      "text/plain": [
       "   abv  beer_id  brewer_id                            beer_name  \\\n",
       "0  7.0     2511        287                  Bell's Cherry Stout   \n",
       "1  5.7    19736       9790                   Duck-Rabbit Porter   \n",
       "2  4.8    11098       3182         Fürstenberg Premium Pilsener   \n",
       "3  9.5    28577       3818  Unearthly (Imperial India Pale Ale)   \n",
       "4  5.8      398        119                   Wolaver's Pale Ale   \n",
       "\n",
       "                       beer_style  review_appearance  review_aroma  \\\n",
       "0                  American Stout                4.5           4.0   \n",
       "1                 American Porter                4.5           4.0   \n",
       "2                 German Pilsener                4.0           3.0   \n",
       "3  American Double / Imperial IPA                4.0           4.0   \n",
       "4         American Pale Ale (APA)                4.0           3.0   \n",
       "\n",
       "   review_overall  review_palate profile_name  review_taste  \\\n",
       "0             4.5            4.0     blaheath           4.5   \n",
       "1             4.5            4.0         GJ40           4.0   \n",
       "2             3.0            3.0     biegaman           3.5   \n",
       "3             4.0            4.0       nick76           4.0   \n",
       "4             4.0            3.5     champ103           3.0   \n",
       "\n",
       "                                                text                time  \n",
       "0   Batch 8144\\tPitch black in color with a 1/2 f... 2009-10-05 21:31:48  \n",
       "1   Sampled from a 12oz bottle in a standard pint... 2009-10-05 21:32:09  \n",
       "2   Haystack yellow with an energetic group of bu... 2009-10-05 21:32:13  \n",
       "3   The aroma has pine, wood, citrus, caramel, an... 2009-10-05 21:32:37  \n",
       "4   A: Pours a slightly hazy golden/orange color.... 2009-10-05 21:33:14  "
      ]
     },
     "execution_count": 6,
     "metadata": {},
     "output_type": "execute_result"
    }
   ],
   "source": [
    "df = pd.read_csv('data/beer_subset.csv.gz', parse_dates=['time'], compression='gzip')\n",
    "review_cols = [c for c in df.columns if c[0:6] == 'review']\n",
    "df.head()"
   ]
  },
  {
   "cell_type": "code",
   "execution_count": 7,
   "metadata": {
    "collapsed": false,
    "slideshow": {
     "slide_type": "fragment"
    }
   },
   "outputs": [
    {
     "data": {
      "image/png": "[encoded data removed]",
      "text/plain": [
       "<matplotlib.figure.Figure at 0x1159bca20>"
      ]
     },
     "metadata": {},
     "output_type": "display_data"
    }
   ],
   "source": [
    "fig, ax = plt.subplots(figsize=(5, 10))\n",
    "sns.countplot(hue='kind', y='stars', data=(df[review_cols]\n",
    "                                           .stack()\n",
    "                                           .rename_axis(['record', 'kind'])\n",
    "                                           .rename('stars')\n",
    "                                           .reset_index()),\n",
    "              ax=ax, order=np.arange(0, 5.5, .5))\n",
    "sns.despine()"
   ]
  },
  {
   "cell_type": "markdown",
   "metadata": {
    "slideshow": {
     "slide_type": "slide"
    }
   },
   "source": [
    "### Groupby"
   ]
  },
  {
   "cell_type": "markdown",
   "metadata": {
    "slideshow": {
     "slide_type": "fragment"
    }
   },
   "source": [
    "The components of a groupby operation are to\n",
    "\n",
    "1. Split a table into groups\n",
    "2. Apply a function to each group\n",
    "3. Combine the results"
   ]
  },
  {
   "cell_type": "markdown",
   "metadata": {
    "slideshow": {
     "slide_type": "fragment"
    }
   },
   "source": [
    "In pandas the first step looks like\n",
    "\n",
    "```python\n",
    "df.groupby( grouper )\n",
    "```"
   ]
  },
  {
   "cell_type": "markdown",
   "metadata": {
    "slideshow": {
     "slide_type": "fragment"
    }
   },
   "source": [
    "`grouper` can be many things\n",
    "\n",
    "- Series (or string indicating a column in `df`)\n",
    "- function (to be applied on the index)\n",
    "- dict : groups by *values*\n",
    "- `levels=[ names of levels in a MultiIndex ]`"
   ]
  },
  {
   "cell_type": "code",
   "execution_count": 8,
   "metadata": {
    "collapsed": false,
    "slideshow": {
     "slide_type": "subslide"
    }
   },
   "outputs": [
    {
     "data": {
      "text/plain": [
       "<pandas.core.groupby.DataFrameGroupBy object at 0x104a43240>"
      ]
     },
     "execution_count": 8,
     "metadata": {},
     "output_type": "execute_result"
    }
   ],
   "source": [
    "gr = df.groupby('beer_style')\n",
    "gr"
   ]
  },
  {
   "cell_type": "markdown",
   "metadata": {
    "collapsed": false,
    "slideshow": {
     "slide_type": "fragment"
    }
   },
   "source": [
    "Haven't really done anything yet. Just some book-keeping to figure out which **keys** go with which **rows**. Keys are the things we've grouped by (each `beer_style` in this case)."
   ]
  },
  {
   "cell_type": "code",
   "execution_count": null,
   "metadata": {
    "collapsed": true,
    "slideshow": {
     "slide_type": "fragment"
    }
   },
   "outputs": [],
   "source": [
    "gr."
   ]
  },
  {
   "cell_type": "code",
   "execution_count": 12,
   "metadata": {
    "collapsed": false,
    "slideshow": {
     "slide_type": "fragment"
    }
   },
   "outputs": [
    {
     "data": {
      "text/plain": [
       "{'Altbier': [200, 960],\n",
       " 'American Adjunct Lager': [31,\n",
       "  36,\n",
       "  80,\n",
       "  203,\n",
       "  234,\n",
       "  258,\n",
       "  280,\n",
       "  349,\n",
       "  435,\n",
       "  442,\n",
       "  453,\n",
       "  457,\n",
       "  520,\n",
       "  612,\n",
       "  626,\n",
       "  650,\n",
       "  784,\n",
       "  792,\n",
       "  812,\n",
       "  817,\n",
       "  831,\n",
       "  849],\n",
       " 'American Amber / Red Ale': [6,\n",
       "  65,\n",
       "  68,\n",
       "  103,\n",
       "  111,\n",
       "  127,\n",
       "  164,\n",
       "  188,\n",
       "  206,\n",
       "  220,\n",
       "  243,\n",
       "  278,\n",
       "  419,\n",
       "  433,\n",
       "  483,\n",
       "  641,\n",
       "  688,\n",
       "  763,\n",
       "  797,\n",
       "  798,\n",
       "  877,\n",
       "  894,\n",
       "  895,\n",
       "  911,\n",
       "  932,\n",
       "  977,\n",
       "  986],\n",
       " 'American Amber / Red Lager': [30, 50, 120, 253, 566, 570, 729, 874],\n",
       " 'American Barleywine': [132,\n",
       "  146,\n",
       "  335,\n",
       "  410,\n",
       "  455,\n",
       "  569,\n",
       "  654,\n",
       "  691,\n",
       "  709,\n",
       "  748,\n",
       "  749,\n",
       "  751,\n",
       "  755,\n",
       "  757,\n",
       "  758,\n",
       "  759,\n",
       "  762,\n",
       "  767,\n",
       "  774,\n",
       "  781,\n",
       "  782,\n",
       "  785,\n",
       "  793,\n",
       "  805],\n",
       " 'American Black Ale': [66, 970],\n",
       " 'American Blonde Ale': [85, 244, 250, 383, 402, 489, 557, 846, 888, 903],\n",
       " 'American Brown Ale': [27,\n",
       "  69,\n",
       "  388,\n",
       "  429,\n",
       "  480,\n",
       "  493,\n",
       "  512,\n",
       "  571,\n",
       "  833,\n",
       "  844,\n",
       "  845,\n",
       "  866,\n",
       "  918,\n",
       "  981,\n",
       "  994,\n",
       "  996],\n",
       " 'American Double / Imperial IPA': [3,\n",
       "  16,\n",
       "  37,\n",
       "  38,\n",
       "  92,\n",
       "  94,\n",
       "  100,\n",
       "  125,\n",
       "  138,\n",
       "  150,\n",
       "  155,\n",
       "  158,\n",
       "  165,\n",
       "  166,\n",
       "  169,\n",
       "  184,\n",
       "  195,\n",
       "  240,\n",
       "  270,\n",
       "  291,\n",
       "  294,\n",
       "  304,\n",
       "  312,\n",
       "  319,\n",
       "  336,\n",
       "  363,\n",
       "  367,\n",
       "  371,\n",
       "  403,\n",
       "  427,\n",
       "  430,\n",
       "  452,\n",
       "  472,\n",
       "  494,\n",
       "  525,\n",
       "  541,\n",
       "  582,\n",
       "  613,\n",
       "  624,\n",
       "  629,\n",
       "  646,\n",
       "  647,\n",
       "  661,\n",
       "  669,\n",
       "  673,\n",
       "  690,\n",
       "  699,\n",
       "  713,\n",
       "  717,\n",
       "  730,\n",
       "  739,\n",
       "  741,\n",
       "  744,\n",
       "  769,\n",
       "  799,\n",
       "  801,\n",
       "  803,\n",
       "  806,\n",
       "  811,\n",
       "  830,\n",
       "  857,\n",
       "  878,\n",
       "  885,\n",
       "  908,\n",
       "  910,\n",
       "  916,\n",
       "  921,\n",
       "  938,\n",
       "  959,\n",
       "  962,\n",
       "  971,\n",
       "  972,\n",
       "  984],\n",
       " 'American Double / Imperial Pilsner': [153, 255, 683],\n",
       " 'American Double / Imperial Stout': [25,\n",
       "  41,\n",
       "  43,\n",
       "  53,\n",
       "  99,\n",
       "  128,\n",
       "  232,\n",
       "  300,\n",
       "  332,\n",
       "  354,\n",
       "  373,\n",
       "  413,\n",
       "  438,\n",
       "  463,\n",
       "  482,\n",
       "  553,\n",
       "  579,\n",
       "  587,\n",
       "  601,\n",
       "  634,\n",
       "  653,\n",
       "  675,\n",
       "  712,\n",
       "  737,\n",
       "  809,\n",
       "  820,\n",
       "  821,\n",
       "  859,\n",
       "  865,\n",
       "  886,\n",
       "  891,\n",
       "  917,\n",
       "  946,\n",
       "  998],\n",
       " 'American IPA': [8,\n",
       "  23,\n",
       "  26,\n",
       "  32,\n",
       "  48,\n",
       "  67,\n",
       "  82,\n",
       "  83,\n",
       "  96,\n",
       "  105,\n",
       "  108,\n",
       "  130,\n",
       "  151,\n",
       "  173,\n",
       "  181,\n",
       "  202,\n",
       "  205,\n",
       "  213,\n",
       "  229,\n",
       "  257,\n",
       "  273,\n",
       "  357,\n",
       "  358,\n",
       "  398,\n",
       "  409,\n",
       "  439,\n",
       "  464,\n",
       "  477,\n",
       "  516,\n",
       "  519,\n",
       "  538,\n",
       "  585,\n",
       "  597,\n",
       "  609,\n",
       "  620,\n",
       "  623,\n",
       "  631,\n",
       "  632,\n",
       "  672,\n",
       "  677,\n",
       "  679,\n",
       "  684,\n",
       "  686,\n",
       "  693,\n",
       "  694,\n",
       "  710,\n",
       "  716,\n",
       "  728,\n",
       "  742,\n",
       "  770,\n",
       "  788,\n",
       "  800,\n",
       "  819,\n",
       "  823,\n",
       "  826,\n",
       "  834,\n",
       "  836,\n",
       "  838,\n",
       "  852,\n",
       "  858,\n",
       "  887,\n",
       "  897,\n",
       "  928,\n",
       "  933,\n",
       "  937,\n",
       "  939,\n",
       "  940,\n",
       "  953],\n",
       " 'American Malt Liquor': [24, 51],\n",
       " 'American Pale Ale (APA)': [4,\n",
       "  11,\n",
       "  55,\n",
       "  97,\n",
       "  114,\n",
       "  362,\n",
       "  399,\n",
       "  444,\n",
       "  502,\n",
       "  513,\n",
       "  517,\n",
       "  558,\n",
       "  578,\n",
       "  651,\n",
       "  659,\n",
       "  662,\n",
       "  682,\n",
       "  685,\n",
       "  696,\n",
       "  718,\n",
       "  720,\n",
       "  747,\n",
       "  794,\n",
       "  861,\n",
       "  867,\n",
       "  882,\n",
       "  892,\n",
       "  926,\n",
       "  934,\n",
       "  956,\n",
       "  975,\n",
       "  988,\n",
       "  992],\n",
       " 'American Pale Lager': [101, 144, 285, 458],\n",
       " 'American Pale Wheat Ale': [70,\n",
       "  121,\n",
       "  134,\n",
       "  167,\n",
       "  356,\n",
       "  420,\n",
       "  450,\n",
       "  544,\n",
       "  549,\n",
       "  559,\n",
       "  576,\n",
       "  680,\n",
       "  725,\n",
       "  756,\n",
       "  778,\n",
       "  787],\n",
       " 'American Porter': [1,\n",
       "  190,\n",
       "  216,\n",
       "  238,\n",
       "  242,\n",
       "  246,\n",
       "  262,\n",
       "  310,\n",
       "  314,\n",
       "  366,\n",
       "  369,\n",
       "  389,\n",
       "  415,\n",
       "  436,\n",
       "  451,\n",
       "  536,\n",
       "  581,\n",
       "  619,\n",
       "  630,\n",
       "  731,\n",
       "  765,\n",
       "  766,\n",
       "  789,\n",
       "  825,\n",
       "  837,\n",
       "  854,\n",
       "  906,\n",
       "  914,\n",
       "  925,\n",
       "  948,\n",
       "  961,\n",
       "  969],\n",
       " 'American Stout': [0,\n",
       "  5,\n",
       "  63,\n",
       "  183,\n",
       "  228,\n",
       "  233,\n",
       "  259,\n",
       "  555,\n",
       "  568,\n",
       "  638,\n",
       "  715,\n",
       "  804,\n",
       "  808,\n",
       "  869,\n",
       "  935,\n",
       "  947],\n",
       " 'American Strong Ale': [45,\n",
       "  109,\n",
       "  221,\n",
       "  296,\n",
       "  306,\n",
       "  321,\n",
       "  323,\n",
       "  330,\n",
       "  345,\n",
       "  361,\n",
       "  365,\n",
       "  753,\n",
       "  870,\n",
       "  880,\n",
       "  951,\n",
       "  954],\n",
       " 'American Wild Ale': [88,\n",
       "  139,\n",
       "  168,\n",
       "  178,\n",
       "  264,\n",
       "  286,\n",
       "  290,\n",
       "  301,\n",
       "  307,\n",
       "  327,\n",
       "  434,\n",
       "  599,\n",
       "  648,\n",
       "  657,\n",
       "  724,\n",
       "  818,\n",
       "  840,\n",
       "  889,\n",
       "  973,\n",
       "  979],\n",
       " 'Baltic Porter': [131, 396, 974],\n",
       " 'Belgian Dark Ale': [18, 137, 214, 299, 334, 380, 391],\n",
       " 'Belgian IPA': [73, 204, 733, 832, 851, 872, 907],\n",
       " 'Belgian Pale Ale': [46,\n",
       "  210,\n",
       "  218,\n",
       "  236,\n",
       "  281,\n",
       "  282,\n",
       "  295,\n",
       "  469,\n",
       "  478,\n",
       "  515,\n",
       "  615,\n",
       "  658,\n",
       "  847],\n",
       " 'Belgian Strong Dark Ale': [35,\n",
       "  122,\n",
       "  142,\n",
       "  154,\n",
       "  293,\n",
       "  320,\n",
       "  331,\n",
       "  446,\n",
       "  552,\n",
       "  595,\n",
       "  598,\n",
       "  708,\n",
       "  714,\n",
       "  978,\n",
       "  982,\n",
       "  993],\n",
       " 'Belgian Strong Pale Ale': [44,\n",
       "  61,\n",
       "  81,\n",
       "  107,\n",
       "  174,\n",
       "  418,\n",
       "  425,\n",
       "  510,\n",
       "  547,\n",
       "  577,\n",
       "  649,\n",
       "  698,\n",
       "  719,\n",
       "  985],\n",
       " 'Berliner Weissbier': [400, 687, 706, 773],\n",
       " 'Bière de Garde': [129, 207, 241, 476, 528, 618, 711, 796, 967, 997],\n",
       " 'Bock': [511, 701, 955],\n",
       " 'California Common / Steam Beer': [119, 145],\n",
       " 'Chile Beer': [116],\n",
       " 'Cream Ale': [540],\n",
       " 'Czech Pilsener': [405, 467, 642, 660],\n",
       " 'Doppelbock': [17, 71, 118, 360, 500, 563, 628, 745, 746, 898],\n",
       " 'Dortmunder / Export Lager': [197, 722],\n",
       " 'Dubbel': [126, 143, 176, 265, 303, 351, 386, 456, 625, 700, 735, 752, 848],\n",
       " 'Dunkelweizen': [14, 208, 260, 292, 372, 416, 445, 466, 497, 505, 902],\n",
       " 'English Barleywine': [95, 375, 462, 639, 738, 771, 776, 957],\n",
       " 'English Bitter': [75, 352, 465, 881],\n",
       " 'English Brown Ale': [12,\n",
       "  19,\n",
       "  193,\n",
       "  222,\n",
       "  230,\n",
       "  235,\n",
       "  407,\n",
       "  537,\n",
       "  543,\n",
       "  551,\n",
       "  567,\n",
       "  627,\n",
       "  666,\n",
       "  670,\n",
       "  671,\n",
       "  674,\n",
       "  681,\n",
       "  772,\n",
       "  783],\n",
       " 'English Dark Mild Ale': [271, 863],\n",
       " 'English India Pale Ale (IPA)': [215, 248, 377, 572, 584, 824, 879],\n",
       " 'English Pale Ale': [33, 74, 298, 850, 968],\n",
       " 'English Porter': [91, 192, 261, 275, 316, 426, 562, 822, 842, 912, 919, 931],\n",
       " 'English Stout': [810],\n",
       " 'English Strong Ale': [227, 387],\n",
       " 'Euro Dark Lager': [342, 635],\n",
       " 'Euro Pale Lager': [34, 98, 113, 133, 254, 786, 807],\n",
       " 'Euro Strong Lager': [726, 732],\n",
       " 'Extra Special / Strong Bitter (ESB)': [211, 252, 315, 475, 580],\n",
       " 'Faro': [723],\n",
       " 'Flanders Oud Bruin': [311, 550, 602],\n",
       " 'Flanders Red Ale': [272, 337, 382, 411, 689],\n",
       " 'Foreign / Export Stout': [695, 736],\n",
       " 'Fruit / Vegetable Beer': [15,\n",
       "  39,\n",
       "  77,\n",
       "  78,\n",
       "  117,\n",
       "  163,\n",
       "  175,\n",
       "  194,\n",
       "  198,\n",
       "  251,\n",
       "  267,\n",
       "  341,\n",
       "  392,\n",
       "  422,\n",
       "  443,\n",
       "  490,\n",
       "  503,\n",
       "  556,\n",
       "  586,\n",
       "  603,\n",
       "  611,\n",
       "  645,\n",
       "  702,\n",
       "  760,\n",
       "  777,\n",
       "  843,\n",
       "  900,\n",
       "  944,\n",
       "  945],\n",
       " 'German Pilsener': [2,\n",
       "  112,\n",
       "  172,\n",
       "  217,\n",
       "  223,\n",
       "  289,\n",
       "  318,\n",
       "  326,\n",
       "  412,\n",
       "  448,\n",
       "  468,\n",
       "  534,\n",
       "  548,\n",
       "  583,\n",
       "  616],\n",
       " 'Gose': [52],\n",
       " 'Gueuze': [182, 196, 374],\n",
       " 'Happoshu': [344],\n",
       " 'Hefeweizen': [135,\n",
       "  149,\n",
       "  283,\n",
       "  288,\n",
       "  325,\n",
       "  370,\n",
       "  449,\n",
       "  473,\n",
       "  514,\n",
       "  573,\n",
       "  829,\n",
       "  835,\n",
       "  965],\n",
       " 'Herbed / Spiced Beer': [40, 64, 72, 219, 397, 554, 663],\n",
       " 'Irish Dry Stout': [89, 355, 471, 790, 949],\n",
       " 'Irish Red Ale': [56, 59, 509, 665, 721, 936],\n",
       " 'Keller Bier / Zwickel Bier': [62, 187, 432, 488, 617, 621],\n",
       " 'Kristalweizen': [390],\n",
       " 'Kölsch': [376, 406, 518, 542, 668, 678, 743, 780, 890],\n",
       " 'Lambic - Fruit': [84, 279, 504, 535],\n",
       " 'Lambic - Unblended': [930],\n",
       " 'Light Lager': [123, 148, 277, 754, 828],\n",
       " 'Maibock / Helles Bock': [474, 692, 768],\n",
       " 'Milk / Sweet Stout': [225,\n",
       "  231,\n",
       "  324,\n",
       "  404,\n",
       "  560,\n",
       "  596,\n",
       "  815,\n",
       "  839,\n",
       "  860,\n",
       "  871,\n",
       "  883,\n",
       "  942,\n",
       "  983],\n",
       " 'Munich Dunkel Lager': [499, 896],\n",
       " 'Munich Helles Lager': [147, 343, 440, 470, 496, 532, 856],\n",
       " 'Märzen / Oktoberfest': [22,\n",
       "  49,\n",
       "  58,\n",
       "  60,\n",
       "  136,\n",
       "  161,\n",
       "  179,\n",
       "  189,\n",
       "  191,\n",
       "  199,\n",
       "  212,\n",
       "  247,\n",
       "  276,\n",
       "  284,\n",
       "  348,\n",
       "  350,\n",
       "  384,\n",
       "  479,\n",
       "  484,\n",
       "  508,\n",
       "  523,\n",
       "  526,\n",
       "  529,\n",
       "  530,\n",
       "  531,\n",
       "  561,\n",
       "  564,\n",
       "  591,\n",
       "  614,\n",
       "  622,\n",
       "  652,\n",
       "  655,\n",
       "  667,\n",
       "  705,\n",
       "  707,\n",
       "  779,\n",
       "  905,\n",
       "  909,\n",
       "  920,\n",
       "  924,\n",
       "  943],\n",
       " 'Oatmeal Stout': [20, 256, 379, 408, 431, 664, 899, 941, 987, 990],\n",
       " 'Old Ale': [47, 347, 460, 633, 640, 643, 764, 775, 802, 862, 915],\n",
       " 'Pumpkin Ale': [29,\n",
       "  76,\n",
       "  115,\n",
       "  124,\n",
       "  156,\n",
       "  159,\n",
       "  170,\n",
       "  226,\n",
       "  245,\n",
       "  266,\n",
       "  305,\n",
       "  339,\n",
       "  364,\n",
       "  447,\n",
       "  485,\n",
       "  487,\n",
       "  491,\n",
       "  495,\n",
       "  498,\n",
       "  501,\n",
       "  507,\n",
       "  522,\n",
       "  588,\n",
       "  604,\n",
       "  605,\n",
       "  608,\n",
       "  868,\n",
       "  893,\n",
       "  904,\n",
       "  923,\n",
       "  958,\n",
       "  964],\n",
       " 'Quadrupel (Quad)': [10, 93, 185, 437, 454, 459, 841],\n",
       " 'Rauchbier': [378],\n",
       " 'Roggenbier': [424],\n",
       " 'Russian Imperial Stout': [57,\n",
       "  106,\n",
       "  141,\n",
       "  177,\n",
       "  180,\n",
       "  249,\n",
       "  268,\n",
       "  309,\n",
       "  313,\n",
       "  329,\n",
       "  340,\n",
       "  353,\n",
       "  394,\n",
       "  395,\n",
       "  428,\n",
       "  546,\n",
       "  594,\n",
       "  606,\n",
       "  610,\n",
       "  636,\n",
       "  656,\n",
       "  697,\n",
       "  816,\n",
       "  853,\n",
       "  873,\n",
       "  875,\n",
       "  980,\n",
       "  989],\n",
       " 'Rye Beer': [54, 385, 401, 966],\n",
       " 'Sahti': [913],\n",
       " 'Saison / Farmhouse Ale': [152,\n",
       "  201,\n",
       "  224,\n",
       "  239,\n",
       "  263,\n",
       "  308,\n",
       "  322,\n",
       "  381,\n",
       "  421,\n",
       "  461,\n",
       "  527,\n",
       "  539,\n",
       "  545,\n",
       "  575,\n",
       "  590,\n",
       "  593,\n",
       "  644,\n",
       "  727,\n",
       "  734,\n",
       "  750,\n",
       "  795,\n",
       "  950,\n",
       "  963,\n",
       "  976,\n",
       "  995],\n",
       " 'Schwarzbier': [338, 423, 441, 492, 521, 703, 864, 884],\n",
       " 'Scotch Ale / Wee Heavy': [13, 104, 162, 186, 302, 368, 414, 607, 876, 929],\n",
       " 'Scottish Ale': [21, 28, 287, 813],\n",
       " 'Smoked Beer': [157, 237, 297, 592, 637, 922, 952],\n",
       " 'Tripel': [42,\n",
       "  79,\n",
       "  102,\n",
       "  110,\n",
       "  171,\n",
       "  269,\n",
       "  328,\n",
       "  346,\n",
       "  417,\n",
       "  676,\n",
       "  704,\n",
       "  740,\n",
       "  761,\n",
       "  791,\n",
       "  814,\n",
       "  927,\n",
       "  991],\n",
       " 'Vienna Lager': [9, 209, 274, 359, 506, 533, 574, 901],\n",
       " 'Weizenbock': [86, 140],\n",
       " 'Wheatwine': [317, 333, 486, 589, 827],\n",
       " 'Witbier': [7, 87, 90, 160, 393, 481, 524, 565, 600, 855]}"
      ]
     },
     "execution_count": 12,
     "metadata": {},
     "output_type": "execute_result"
    }
   ],
   "source": [
    "gr.groups"
   ]
  },
  {
   "cell_type": "code",
   "execution_count": 15,
   "metadata": {
    "collapsed": false,
    "slideshow": {
     "slide_type": "fragment"
    }
   },
   "outputs": [
    {
     "data": {
      "text/plain": [
       "dict_keys(['Extra Special / Strong Bitter (ESB)', 'Munich Helles Lager', 'Faro', 'English Brown Ale', 'Lambic - Unblended', 'Rye Beer', 'California Common / Steam Beer', 'Euro Strong Lager', 'Euro Pale Lager', 'Rauchbier', 'Märzen / Oktoberfest', 'Oatmeal Stout', 'American Adjunct Lager', 'German Pilsener', 'English Dark Mild Ale', 'American Amber / Red Lager', 'Witbier', 'Munich Dunkel Lager', 'American Porter', 'Milk / Sweet Stout', 'English India Pale Ale (IPA)', 'American Wild Ale', 'Herbed / Spiced Beer', 'Flanders Red Ale', 'Gueuze', 'American IPA', 'Belgian Strong Pale Ale', 'American Barleywine', 'Belgian Dark Ale', 'Tripel', 'American Pale Lager', 'Kölsch', 'American Strong Ale', 'Berliner Weissbier', 'English Stout', 'Czech Pilsener', 'Irish Dry Stout', 'Maibock / Helles Bock', 'Lambic - Fruit', 'Fruit / Vegetable Beer', 'Irish Red Ale', 'Scotch Ale / Wee Heavy', 'Kristalweizen', 'Gose', 'American Stout', 'Keller Bier / Zwickel Bier', 'American Pale Ale (APA)', 'Belgian Pale Ale', 'Bock', 'Vienna Lager', 'American Pale Wheat Ale', 'Old Ale', 'American Brown Ale', 'Dunkelweizen', 'Sahti', 'Bière de Garde', 'Chile Beer', 'Saison / Farmhouse Ale', 'American Double / Imperial Stout', 'American Black Ale', 'Belgian Strong Dark Ale', 'Euro Dark Lager', 'Baltic Porter', 'American Double / Imperial IPA', 'Dubbel', 'American Blonde Ale', 'English Pale Ale', 'Quadrupel (Quad)', 'English Bitter', 'Flanders Oud Bruin', 'Hefeweizen', 'English Barleywine', 'Weizenbock', 'Foreign / Export Stout', 'Dortmunder / Export Lager', 'Happoshu', 'Russian Imperial Stout', 'Light Lager', 'American Double / Imperial Pilsner', 'Smoked Beer', 'Cream Ale', 'American Malt Liquor', 'Altbier', 'Belgian IPA', 'Scottish Ale', 'Pumpkin Ale', 'Roggenbier', 'Wheatwine', 'English Strong Ale', 'Doppelbock', 'Schwarzbier', 'English Porter', 'American Amber / Red Ale'])"
      ]
     },
     "execution_count": 15,
     "metadata": {},
     "output_type": "execute_result"
    }
   ],
   "source": [
    "gr.groups.keys()"
   ]
  },
  {
   "cell_type": "code",
   "execution_count": 16,
   "metadata": {
    "collapsed": false,
    "slideshow": {
     "slide_type": "fragment"
    }
   },
   "outputs": [
    {
     "data": {
      "text/html": [
       "<div>\n",
       "<table border=\"1\" class=\"dataframe\">\n",
       "  <thead>\n",
       "    <tr style=\"text-align: right;\">\n",
       "      <th></th>\n",
       "      <th>abv</th>\n",
       "      <th>beer_id</th>\n",
       "      <th>brewer_id</th>\n",
       "      <th>beer_name</th>\n",
       "      <th>beer_style</th>\n",
       "      <th>review_appearance</th>\n",
       "      <th>review_aroma</th>\n",
       "      <th>review_overall</th>\n",
       "      <th>review_palate</th>\n",
       "      <th>profile_name</th>\n",
       "      <th>review_taste</th>\n",
       "      <th>text</th>\n",
       "      <th>time</th>\n",
       "    </tr>\n",
       "  </thead>\n",
       "  <tbody>\n",
       "    <tr>\n",
       "      <th>54</th>\n",
       "      <td>8.0</td>\n",
       "      <td>53132</td>\n",
       "      <td>16866</td>\n",
       "      <td>Rugbrød</td>\n",
       "      <td>Rye Beer</td>\n",
       "      <td>4.0</td>\n",
       "      <td>4.0</td>\n",
       "      <td>3.5</td>\n",
       "      <td>3.5</td>\n",
       "      <td>Halcyondays</td>\n",
       "      <td>3.5</td>\n",
       "      <td>On cask at The Bruery, Review 2.0, entering t...</td>\n",
       "      <td>2009-10-05 22:31:38</td>\n",
       "    </tr>\n",
       "    <tr>\n",
       "      <th>385</th>\n",
       "      <td>9.0</td>\n",
       "      <td>37156</td>\n",
       "      <td>651</td>\n",
       "      <td>Old Habit</td>\n",
       "      <td>Rye Beer</td>\n",
       "      <td>5.0</td>\n",
       "      <td>4.5</td>\n",
       "      <td>4.0</td>\n",
       "      <td>4.5</td>\n",
       "      <td>wyattshotmaker</td>\n",
       "      <td>4.5</td>\n",
       "      <td>poured into my little samuel smith flute, thi...</td>\n",
       "      <td>2009-10-06 04:16:29</td>\n",
       "    </tr>\n",
       "    <tr>\n",
       "      <th>401</th>\n",
       "      <td>8.0</td>\n",
       "      <td>3158</td>\n",
       "      <td>610</td>\n",
       "      <td>Hop Rod Rye</td>\n",
       "      <td>Rye Beer</td>\n",
       "      <td>3.5</td>\n",
       "      <td>4.0</td>\n",
       "      <td>4.0</td>\n",
       "      <td>4.5</td>\n",
       "      <td>TheDeuce</td>\n",
       "      <td>4.0</td>\n",
       "      <td>Bear Republic Hop Rod Rye....\\t\\tAppearance-d...</td>\n",
       "      <td>2009-10-06 04:42:07</td>\n",
       "    </tr>\n",
       "    <tr>\n",
       "      <th>966</th>\n",
       "      <td>8.0</td>\n",
       "      <td>3158</td>\n",
       "      <td>610</td>\n",
       "      <td>Hop Rod Rye</td>\n",
       "      <td>Rye Beer</td>\n",
       "      <td>4.0</td>\n",
       "      <td>4.5</td>\n",
       "      <td>4.0</td>\n",
       "      <td>4.0</td>\n",
       "      <td>bkett01</td>\n",
       "      <td>4.5</td>\n",
       "      <td>Enjoyed from the tap at the Bear Republic Bre...</td>\n",
       "      <td>2009-10-07 01:28:17</td>\n",
       "    </tr>\n",
       "  </tbody>\n",
       "</table>\n",
       "</div>"
      ],
      "text/plain": [
       "     abv  beer_id  brewer_id    beer_name beer_style  review_appearance  \\\n",
       "54   8.0    53132      16866      Rugbrød   Rye Beer                4.0   \n",
       "385  9.0    37156        651    Old Habit   Rye Beer                5.0   \n",
       "401  8.0     3158        610  Hop Rod Rye   Rye Beer                3.5   \n",
       "966  8.0     3158        610  Hop Rod Rye   Rye Beer                4.0   \n",
       "\n",
       "     review_aroma  review_overall  review_palate    profile_name  \\\n",
       "54            4.0             3.5            3.5     Halcyondays   \n",
       "385           4.5             4.0            4.5  wyattshotmaker   \n",
       "401           4.0             4.0            4.5        TheDeuce   \n",
       "966           4.5             4.0            4.0         bkett01   \n",
       "\n",
       "     review_taste                                               text  \\\n",
       "54            3.5   On cask at The Bruery, Review 2.0, entering t...   \n",
       "385           4.5   poured into my little samuel smith flute, thi...   \n",
       "401           4.0   Bear Republic Hop Rod Rye....\\t\\tAppearance-d...   \n",
       "966           4.5   Enjoyed from the tap at the Bear Republic Bre...   \n",
       "\n",
       "                   time  \n",
       "54  2009-10-05 22:31:38  \n",
       "385 2009-10-06 04:16:29  \n",
       "401 2009-10-06 04:42:07  \n",
       "966 2009-10-07 01:28:17  "
      ]
     },
     "execution_count": 16,
     "metadata": {},
     "output_type": "execute_result"
    }
   ],
   "source": [
    "gr.get_group('Rye Beer')"
   ]
  },
  {
   "cell_type": "markdown",
   "metadata": {
    "slideshow": {
     "slide_type": "subslide"
    }
   },
   "source": [
    "There's a generic aggregation function:"
   ]
  },
  {
   "cell_type": "code",
   "execution_count": 18,
   "metadata": {
    "collapsed": false
   },
   "outputs": [],
   "source": [
    "gr.agg?"
   ]
  },
  {
   "cell_type": "markdown",
   "metadata": {
    "slideshow": {
     "slide_type": "fragment"
    }
   },
   "source": [
    "Which accepts some common operations as strings:"
   ]
  },
  {
   "cell_type": "code",
   "execution_count": 19,
   "metadata": {
    "collapsed": false,
    "slideshow": {
     "slide_type": "-"
    }
   },
   "outputs": [
    {
     "data": {
      "text/html": [
       "<div>\n",
       "<table border=\"1\" class=\"dataframe\">\n",
       "  <thead>\n",
       "    <tr style=\"text-align: right;\">\n",
       "      <th></th>\n",
       "      <th>abv</th>\n",
       "      <th>beer_id</th>\n",
       "      <th>brewer_id</th>\n",
       "      <th>review_appearance</th>\n",
       "      <th>review_aroma</th>\n",
       "      <th>review_overall</th>\n",
       "      <th>review_palate</th>\n",
       "      <th>review_taste</th>\n",
       "    </tr>\n",
       "    <tr>\n",
       "      <th>beer_style</th>\n",
       "      <th></th>\n",
       "      <th></th>\n",
       "      <th></th>\n",
       "      <th></th>\n",
       "      <th></th>\n",
       "      <th></th>\n",
       "      <th></th>\n",
       "      <th></th>\n",
       "    </tr>\n",
       "  </thead>\n",
       "  <tbody>\n",
       "    <tr>\n",
       "      <th>Altbier</th>\n",
       "      <td>5.850000</td>\n",
       "      <td>43260.500000</td>\n",
       "      <td>419.500000</td>\n",
       "      <td>4.000000</td>\n",
       "      <td>3.750000</td>\n",
       "      <td>4.000000</td>\n",
       "      <td>3.750000</td>\n",
       "      <td>4.000000</td>\n",
       "    </tr>\n",
       "    <tr>\n",
       "      <th>American Adjunct Lager</th>\n",
       "      <td>4.872727</td>\n",
       "      <td>12829.909091</td>\n",
       "      <td>2585.909091</td>\n",
       "      <td>2.954545</td>\n",
       "      <td>2.613636</td>\n",
       "      <td>3.272727</td>\n",
       "      <td>2.909091</td>\n",
       "      <td>2.750000</td>\n",
       "    </tr>\n",
       "    <tr>\n",
       "      <th>American Amber / Red Ale</th>\n",
       "      <td>6.195652</td>\n",
       "      <td>28366.777778</td>\n",
       "      <td>2531.111111</td>\n",
       "      <td>3.740741</td>\n",
       "      <td>3.592593</td>\n",
       "      <td>3.870370</td>\n",
       "      <td>3.555556</td>\n",
       "      <td>3.777778</td>\n",
       "    </tr>\n",
       "    <tr>\n",
       "      <th>American Amber / Red Lager</th>\n",
       "      <td>4.822857</td>\n",
       "      <td>22277.500000</td>\n",
       "      <td>5620.125000</td>\n",
       "      <td>3.437500</td>\n",
       "      <td>3.312500</td>\n",
       "      <td>3.375000</td>\n",
       "      <td>3.187500</td>\n",
       "      <td>3.125000</td>\n",
       "    </tr>\n",
       "    <tr>\n",
       "      <th>American Barleywine</th>\n",
       "      <td>10.208333</td>\n",
       "      <td>32457.250000</td>\n",
       "      <td>3744.083333</td>\n",
       "      <td>3.958333</td>\n",
       "      <td>3.937500</td>\n",
       "      <td>3.729167</td>\n",
       "      <td>3.895833</td>\n",
       "      <td>3.937500</td>\n",
       "    </tr>\n",
       "    <tr>\n",
       "      <th>...</th>\n",
       "      <td>...</td>\n",
       "      <td>...</td>\n",
       "      <td>...</td>\n",
       "      <td>...</td>\n",
       "      <td>...</td>\n",
       "      <td>...</td>\n",
       "      <td>...</td>\n",
       "      <td>...</td>\n",
       "    </tr>\n",
       "    <tr>\n",
       "      <th>Tripel</th>\n",
       "      <td>9.329412</td>\n",
       "      <td>16027.705882</td>\n",
       "      <td>2882.882353</td>\n",
       "      <td>4.264706</td>\n",
       "      <td>4.088235</td>\n",
       "      <td>3.970588</td>\n",
       "      <td>3.911765</td>\n",
       "      <td>4.176471</td>\n",
       "    </tr>\n",
       "    <tr>\n",
       "      <th>Vienna Lager</th>\n",
       "      <td>4.985714</td>\n",
       "      <td>19497.750000</td>\n",
       "      <td>6180.750000</td>\n",
       "      <td>3.500000</td>\n",
       "      <td>3.250000</td>\n",
       "      <td>3.375000</td>\n",
       "      <td>3.562500</td>\n",
       "      <td>3.312500</td>\n",
       "    </tr>\n",
       "    <tr>\n",
       "      <th>Weizenbock</th>\n",
       "      <td>8.350000</td>\n",
       "      <td>19540.500000</td>\n",
       "      <td>250.000000</td>\n",
       "      <td>4.000000</td>\n",
       "      <td>3.750000</td>\n",
       "      <td>4.250000</td>\n",
       "      <td>4.250000</td>\n",
       "      <td>4.250000</td>\n",
       "    </tr>\n",
       "    <tr>\n",
       "      <th>Wheatwine</th>\n",
       "      <td>11.075000</td>\n",
       "      <td>36980.000000</td>\n",
       "      <td>629.600000</td>\n",
       "      <td>3.800000</td>\n",
       "      <td>4.000000</td>\n",
       "      <td>3.500000</td>\n",
       "      <td>4.000000</td>\n",
       "      <td>3.700000</td>\n",
       "    </tr>\n",
       "    <tr>\n",
       "      <th>Witbier</th>\n",
       "      <td>6.175000</td>\n",
       "      <td>27346.600000</td>\n",
       "      <td>3583.700000</td>\n",
       "      <td>3.750000</td>\n",
       "      <td>3.650000</td>\n",
       "      <td>3.600000</td>\n",
       "      <td>3.550000</td>\n",
       "      <td>3.650000</td>\n",
       "    </tr>\n",
       "  </tbody>\n",
       "</table>\n",
       "<p>93 rows × 8 columns</p>\n",
       "</div>"
      ],
      "text/plain": [
       "                                  abv       beer_id    brewer_id  \\\n",
       "beer_style                                                         \n",
       "Altbier                      5.850000  43260.500000   419.500000   \n",
       "American Adjunct Lager       4.872727  12829.909091  2585.909091   \n",
       "American Amber / Red Ale     6.195652  28366.777778  2531.111111   \n",
       "American Amber / Red Lager   4.822857  22277.500000  5620.125000   \n",
       "American Barleywine         10.208333  32457.250000  3744.083333   \n",
       "...                               ...           ...          ...   \n",
       "Tripel                       9.329412  16027.705882  2882.882353   \n",
       "Vienna Lager                 4.985714  19497.750000  6180.750000   \n",
       "Weizenbock                   8.350000  19540.500000   250.000000   \n",
       "Wheatwine                   11.075000  36980.000000   629.600000   \n",
       "Witbier                      6.175000  27346.600000  3583.700000   \n",
       "\n",
       "                            review_appearance  review_aroma  review_overall  \\\n",
       "beer_style                                                                    \n",
       "Altbier                              4.000000      3.750000        4.000000   \n",
       "American Adjunct Lager               2.954545      2.613636        3.272727   \n",
       "American Amber / Red Ale             3.740741      3.592593        3.870370   \n",
       "American Amber / Red Lager           3.437500      3.312500        3.375000   \n",
       "American Barleywine                  3.958333      3.937500        3.729167   \n",
       "...                                       ...           ...             ...   \n",
       "Tripel                               4.264706      4.088235        3.970588   \n",
       "Vienna Lager                         3.500000      3.250000        3.375000   \n",
       "Weizenbock                           4.000000      3.750000        4.250000   \n",
       "Wheatwine                            3.800000      4.000000        3.500000   \n",
       "Witbier                              3.750000      3.650000        3.600000   \n",
       "\n",
       "                            review_palate  review_taste  \n",
       "beer_style                                               \n",
       "Altbier                          3.750000      4.000000  \n",
       "American Adjunct Lager           2.909091      2.750000  \n",
       "American Amber / Red Ale         3.555556      3.777778  \n",
       "American Amber / Red Lager       3.187500      3.125000  \n",
       "American Barleywine              3.895833      3.937500  \n",
       "...                                   ...           ...  \n",
       "Tripel                           3.911765      4.176471  \n",
       "Vienna Lager                     3.562500      3.312500  \n",
       "Weizenbock                       4.250000      4.250000  \n",
       "Wheatwine                        4.000000      3.700000  \n",
       "Witbier                          3.550000      3.650000  \n",
       "\n",
       "[93 rows x 8 columns]"
      ]
     },
     "execution_count": 19,
     "metadata": {},
     "output_type": "execute_result"
    }
   ],
   "source": [
    "gr.agg('mean')"
   ]
  },
  {
   "cell_type": "markdown",
   "metadata": {
    "slideshow": {
     "slide_type": "fragment"
    }
   },
   "source": [
    "Or functions that can operate on Pandas or Numpy objects:"
   ]
  },
  {
   "cell_type": "code",
   "execution_count": 23,
   "metadata": {
    "collapsed": false,
    "slideshow": {
     "slide_type": "-"
    }
   },
   "outputs": [
    {
     "data": {
      "text/html": [
       "<div>\n",
       "<table border=\"1\" class=\"dataframe\">\n",
       "  <thead>\n",
       "    <tr style=\"text-align: right;\">\n",
       "      <th></th>\n",
       "      <th>abv</th>\n",
       "      <th>beer_id</th>\n",
       "      <th>brewer_id</th>\n",
       "      <th>review_appearance</th>\n",
       "      <th>review_aroma</th>\n",
       "      <th>review_overall</th>\n",
       "      <th>review_palate</th>\n",
       "      <th>review_taste</th>\n",
       "    </tr>\n",
       "    <tr>\n",
       "      <th>beer_style</th>\n",
       "      <th></th>\n",
       "      <th></th>\n",
       "      <th></th>\n",
       "      <th></th>\n",
       "      <th></th>\n",
       "      <th></th>\n",
       "      <th></th>\n",
       "      <th></th>\n",
       "    </tr>\n",
       "  </thead>\n",
       "  <tbody>\n",
       "    <tr>\n",
       "      <th>Altbier</th>\n",
       "      <td>5.850000</td>\n",
       "      <td>43260.500000</td>\n",
       "      <td>419.500000</td>\n",
       "      <td>4.000000</td>\n",
       "      <td>3.750000</td>\n",
       "      <td>4.000000</td>\n",
       "      <td>3.750000</td>\n",
       "      <td>4.000000</td>\n",
       "    </tr>\n",
       "    <tr>\n",
       "      <th>American Adjunct Lager</th>\n",
       "      <td>4.872727</td>\n",
       "      <td>12829.909091</td>\n",
       "      <td>2585.909091</td>\n",
       "      <td>2.954545</td>\n",
       "      <td>2.613636</td>\n",
       "      <td>3.272727</td>\n",
       "      <td>2.909091</td>\n",
       "      <td>2.750000</td>\n",
       "    </tr>\n",
       "    <tr>\n",
       "      <th>American Amber / Red Ale</th>\n",
       "      <td>6.195652</td>\n",
       "      <td>28366.777778</td>\n",
       "      <td>2531.111111</td>\n",
       "      <td>3.740741</td>\n",
       "      <td>3.592593</td>\n",
       "      <td>3.870370</td>\n",
       "      <td>3.555556</td>\n",
       "      <td>3.777778</td>\n",
       "    </tr>\n",
       "    <tr>\n",
       "      <th>American Amber / Red Lager</th>\n",
       "      <td>4.822857</td>\n",
       "      <td>22277.500000</td>\n",
       "      <td>5620.125000</td>\n",
       "      <td>3.437500</td>\n",
       "      <td>3.312500</td>\n",
       "      <td>3.375000</td>\n",
       "      <td>3.187500</td>\n",
       "      <td>3.125000</td>\n",
       "    </tr>\n",
       "    <tr>\n",
       "      <th>American Barleywine</th>\n",
       "      <td>10.208333</td>\n",
       "      <td>32457.250000</td>\n",
       "      <td>3744.083333</td>\n",
       "      <td>3.958333</td>\n",
       "      <td>3.937500</td>\n",
       "      <td>3.729167</td>\n",
       "      <td>3.895833</td>\n",
       "      <td>3.937500</td>\n",
       "    </tr>\n",
       "    <tr>\n",
       "      <th>...</th>\n",
       "      <td>...</td>\n",
       "      <td>...</td>\n",
       "      <td>...</td>\n",
       "      <td>...</td>\n",
       "      <td>...</td>\n",
       "      <td>...</td>\n",
       "      <td>...</td>\n",
       "      <td>...</td>\n",
       "    </tr>\n",
       "    <tr>\n",
       "      <th>Tripel</th>\n",
       "      <td>9.329412</td>\n",
       "      <td>16027.705882</td>\n",
       "      <td>2882.882353</td>\n",
       "      <td>4.264706</td>\n",
       "      <td>4.088235</td>\n",
       "      <td>3.970588</td>\n",
       "      <td>3.911765</td>\n",
       "      <td>4.176471</td>\n",
       "    </tr>\n",
       "    <tr>\n",
       "      <th>Vienna Lager</th>\n",
       "      <td>4.985714</td>\n",
       "      <td>19497.750000</td>\n",
       "      <td>6180.750000</td>\n",
       "      <td>3.500000</td>\n",
       "      <td>3.250000</td>\n",
       "      <td>3.375000</td>\n",
       "      <td>3.562500</td>\n",
       "      <td>3.312500</td>\n",
       "    </tr>\n",
       "    <tr>\n",
       "      <th>Weizenbock</th>\n",
       "      <td>8.350000</td>\n",
       "      <td>19540.500000</td>\n",
       "      <td>250.000000</td>\n",
       "      <td>4.000000</td>\n",
       "      <td>3.750000</td>\n",
       "      <td>4.250000</td>\n",
       "      <td>4.250000</td>\n",
       "      <td>4.250000</td>\n",
       "    </tr>\n",
       "    <tr>\n",
       "      <th>Wheatwine</th>\n",
       "      <td>11.075000</td>\n",
       "      <td>36980.000000</td>\n",
       "      <td>629.600000</td>\n",
       "      <td>3.800000</td>\n",
       "      <td>4.000000</td>\n",
       "      <td>3.500000</td>\n",
       "      <td>4.000000</td>\n",
       "      <td>3.700000</td>\n",
       "    </tr>\n",
       "    <tr>\n",
       "      <th>Witbier</th>\n",
       "      <td>6.175000</td>\n",
       "      <td>27346.600000</td>\n",
       "      <td>3583.700000</td>\n",
       "      <td>3.750000</td>\n",
       "      <td>3.650000</td>\n",
       "      <td>3.600000</td>\n",
       "      <td>3.550000</td>\n",
       "      <td>3.650000</td>\n",
       "    </tr>\n",
       "  </tbody>\n",
       "</table>\n",
       "<p>93 rows × 8 columns</p>\n",
       "</div>"
      ],
      "text/plain": [
       "                                  abv       beer_id    brewer_id  \\\n",
       "beer_style                                                         \n",
       "Altbier                      5.850000  43260.500000   419.500000   \n",
       "American Adjunct Lager       4.872727  12829.909091  2585.909091   \n",
       "American Amber / Red Ale     6.195652  28366.777778  2531.111111   \n",
       "American Amber / Red Lager   4.822857  22277.500000  5620.125000   \n",
       "American Barleywine         10.208333  32457.250000  3744.083333   \n",
       "...                               ...           ...          ...   \n",
       "Tripel                       9.329412  16027.705882  2882.882353   \n",
       "Vienna Lager                 4.985714  19497.750000  6180.750000   \n",
       "Weizenbock                   8.350000  19540.500000   250.000000   \n",
       "Wheatwine                   11.075000  36980.000000   629.600000   \n",
       "Witbier                      6.175000  27346.600000  3583.700000   \n",
       "\n",
       "                            review_appearance  review_aroma  review_overall  \\\n",
       "beer_style                                                                    \n",
       "Altbier                              4.000000      3.750000        4.000000   \n",
       "American Adjunct Lager               2.954545      2.613636        3.272727   \n",
       "American Amber / Red Ale             3.740741      3.592593        3.870370   \n",
       "American Amber / Red Lager           3.437500      3.312500        3.375000   \n",
       "American Barleywine                  3.958333      3.937500        3.729167   \n",
       "...                                       ...           ...             ...   \n",
       "Tripel                               4.264706      4.088235        3.970588   \n",
       "Vienna Lager                         3.500000      3.250000        3.375000   \n",
       "Weizenbock                           4.000000      3.750000        4.250000   \n",
       "Wheatwine                            3.800000      4.000000        3.500000   \n",
       "Witbier                              3.750000      3.650000        3.600000   \n",
       "\n",
       "                            review_palate  review_taste  \n",
       "beer_style                                               \n",
       "Altbier                          3.750000      4.000000  \n",
       "American Adjunct Lager           2.909091      2.750000  \n",
       "American Amber / Red Ale         3.555556      3.777778  \n",
       "American Amber / Red Lager       3.187500      3.125000  \n",
       "American Barleywine              3.895833      3.937500  \n",
       "...                                   ...           ...  \n",
       "Tripel                           3.911765      4.176471  \n",
       "Vienna Lager                     3.562500      3.312500  \n",
       "Weizenbock                       4.250000      4.250000  \n",
       "Wheatwine                        4.000000      3.700000  \n",
       "Witbier                          3.550000      3.650000  \n",
       "\n",
       "[93 rows x 8 columns]"
      ]
     },
     "execution_count": 23,
     "metadata": {},
     "output_type": "execute_result"
    }
   ],
   "source": [
    "gr.agg(np.mean)"
   ]
  },
  {
   "cell_type": "markdown",
   "metadata": {
    "slideshow": {
     "slide_type": "fragment"
    }
   },
   "source": [
    "And for many common operations, there are also convenience functions:"
   ]
  },
  {
   "cell_type": "code",
   "execution_count": 21,
   "metadata": {
    "collapsed": false,
    "slideshow": {
     "slide_type": "-"
    }
   },
   "outputs": [
    {
     "data": {
      "text/html": [
       "<div>\n",
       "<table border=\"1\" class=\"dataframe\">\n",
       "  <thead>\n",
       "    <tr style=\"text-align: right;\">\n",
       "      <th></th>\n",
       "      <th>abv</th>\n",
       "      <th>beer_id</th>\n",
       "      <th>brewer_id</th>\n",
       "      <th>review_appearance</th>\n",
       "      <th>review_aroma</th>\n",
       "      <th>review_overall</th>\n",
       "      <th>review_palate</th>\n",
       "      <th>review_taste</th>\n",
       "    </tr>\n",
       "    <tr>\n",
       "      <th>beer_style</th>\n",
       "      <th></th>\n",
       "      <th></th>\n",
       "      <th></th>\n",
       "      <th></th>\n",
       "      <th></th>\n",
       "      <th></th>\n",
       "      <th></th>\n",
       "      <th></th>\n",
       "    </tr>\n",
       "  </thead>\n",
       "  <tbody>\n",
       "    <tr>\n",
       "      <th>Altbier</th>\n",
       "      <td>5.850000</td>\n",
       "      <td>43260.500000</td>\n",
       "      <td>419.500000</td>\n",
       "      <td>4.000000</td>\n",
       "      <td>3.750000</td>\n",
       "      <td>4.000000</td>\n",
       "      <td>3.750000</td>\n",
       "      <td>4.000000</td>\n",
       "    </tr>\n",
       "    <tr>\n",
       "      <th>American Adjunct Lager</th>\n",
       "      <td>4.872727</td>\n",
       "      <td>12829.909091</td>\n",
       "      <td>2585.909091</td>\n",
       "      <td>2.954545</td>\n",
       "      <td>2.613636</td>\n",
       "      <td>3.272727</td>\n",
       "      <td>2.909091</td>\n",
       "      <td>2.750000</td>\n",
       "    </tr>\n",
       "    <tr>\n",
       "      <th>American Amber / Red Ale</th>\n",
       "      <td>6.195652</td>\n",
       "      <td>28366.777778</td>\n",
       "      <td>2531.111111</td>\n",
       "      <td>3.740741</td>\n",
       "      <td>3.592593</td>\n",
       "      <td>3.870370</td>\n",
       "      <td>3.555556</td>\n",
       "      <td>3.777778</td>\n",
       "    </tr>\n",
       "    <tr>\n",
       "      <th>American Amber / Red Lager</th>\n",
       "      <td>4.822857</td>\n",
       "      <td>22277.500000</td>\n",
       "      <td>5620.125000</td>\n",
       "      <td>3.437500</td>\n",
       "      <td>3.312500</td>\n",
       "      <td>3.375000</td>\n",
       "      <td>3.187500</td>\n",
       "      <td>3.125000</td>\n",
       "    </tr>\n",
       "    <tr>\n",
       "      <th>American Barleywine</th>\n",
       "      <td>10.208333</td>\n",
       "      <td>32457.250000</td>\n",
       "      <td>3744.083333</td>\n",
       "      <td>3.958333</td>\n",
       "      <td>3.937500</td>\n",
       "      <td>3.729167</td>\n",
       "      <td>3.895833</td>\n",
       "      <td>3.937500</td>\n",
       "    </tr>\n",
       "    <tr>\n",
       "      <th>...</th>\n",
       "      <td>...</td>\n",
       "      <td>...</td>\n",
       "      <td>...</td>\n",
       "      <td>...</td>\n",
       "      <td>...</td>\n",
       "      <td>...</td>\n",
       "      <td>...</td>\n",
       "      <td>...</td>\n",
       "    </tr>\n",
       "    <tr>\n",
       "      <th>Tripel</th>\n",
       "      <td>9.329412</td>\n",
       "      <td>16027.705882</td>\n",
       "      <td>2882.882353</td>\n",
       "      <td>4.264706</td>\n",
       "      <td>4.088235</td>\n",
       "      <td>3.970588</td>\n",
       "      <td>3.911765</td>\n",
       "      <td>4.176471</td>\n",
       "    </tr>\n",
       "    <tr>\n",
       "      <th>Vienna Lager</th>\n",
       "      <td>4.985714</td>\n",
       "      <td>19497.750000</td>\n",
       "      <td>6180.750000</td>\n",
       "      <td>3.500000</td>\n",
       "      <td>3.250000</td>\n",
       "      <td>3.375000</td>\n",
       "      <td>3.562500</td>\n",
       "      <td>3.312500</td>\n",
       "    </tr>\n",
       "    <tr>\n",
       "      <th>Weizenbock</th>\n",
       "      <td>8.350000</td>\n",
       "      <td>19540.500000</td>\n",
       "      <td>250.000000</td>\n",
       "      <td>4.000000</td>\n",
       "      <td>3.750000</td>\n",
       "      <td>4.250000</td>\n",
       "      <td>4.250000</td>\n",
       "      <td>4.250000</td>\n",
       "    </tr>\n",
       "    <tr>\n",
       "      <th>Wheatwine</th>\n",
       "      <td>11.075000</td>\n",
       "      <td>36980.000000</td>\n",
       "      <td>629.600000</td>\n",
       "      <td>3.800000</td>\n",
       "      <td>4.000000</td>\n",
       "      <td>3.500000</td>\n",
       "      <td>4.000000</td>\n",
       "      <td>3.700000</td>\n",
       "    </tr>\n",
       "    <tr>\n",
       "      <th>Witbier</th>\n",
       "      <td>6.175000</td>\n",
       "      <td>27346.600000</td>\n",
       "      <td>3583.700000</td>\n",
       "      <td>3.750000</td>\n",
       "      <td>3.650000</td>\n",
       "      <td>3.600000</td>\n",
       "      <td>3.550000</td>\n",
       "      <td>3.650000</td>\n",
       "    </tr>\n",
       "  </tbody>\n",
       "</table>\n",
       "<p>93 rows × 8 columns</p>\n",
       "</div>"
      ],
      "text/plain": [
       "                                  abv       beer_id    brewer_id  \\\n",
       "beer_style                                                         \n",
       "Altbier                      5.850000  43260.500000   419.500000   \n",
       "American Adjunct Lager       4.872727  12829.909091  2585.909091   \n",
       "American Amber / Red Ale     6.195652  28366.777778  2531.111111   \n",
       "American Amber / Red Lager   4.822857  22277.500000  5620.125000   \n",
       "American Barleywine         10.208333  32457.250000  3744.083333   \n",
       "...                               ...           ...          ...   \n",
       "Tripel                       9.329412  16027.705882  2882.882353   \n",
       "Vienna Lager                 4.985714  19497.750000  6180.750000   \n",
       "Weizenbock                   8.350000  19540.500000   250.000000   \n",
       "Wheatwine                   11.075000  36980.000000   629.600000   \n",
       "Witbier                      6.175000  27346.600000  3583.700000   \n",
       "\n",
       "                            review_appearance  review_aroma  review_overall  \\\n",
       "beer_style                                                                    \n",
       "Altbier                              4.000000      3.750000        4.000000   \n",
       "American Adjunct Lager               2.954545      2.613636        3.272727   \n",
       "American Amber / Red Ale             3.740741      3.592593        3.870370   \n",
       "American Amber / Red Lager           3.437500      3.312500        3.375000   \n",
       "American Barleywine                  3.958333      3.937500        3.729167   \n",
       "...                                       ...           ...             ...   \n",
       "Tripel                               4.264706      4.088235        3.970588   \n",
       "Vienna Lager                         3.500000      3.250000        3.375000   \n",
       "Weizenbock                           4.000000      3.750000        4.250000   \n",
       "Wheatwine                            3.800000      4.000000        3.500000   \n",
       "Witbier                              3.750000      3.650000        3.600000   \n",
       "\n",
       "                            review_palate  review_taste  \n",
       "beer_style                                               \n",
       "Altbier                          3.750000      4.000000  \n",
       "American Adjunct Lager           2.909091      2.750000  \n",
       "American Amber / Red Ale         3.555556      3.777778  \n",
       "American Amber / Red Lager       3.187500      3.125000  \n",
       "American Barleywine              3.895833      3.937500  \n",
       "...                                   ...           ...  \n",
       "Tripel                           3.911765      4.176471  \n",
       "Vienna Lager                     3.562500      3.312500  \n",
       "Weizenbock                       4.250000      4.250000  \n",
       "Wheatwine                        4.000000      3.700000  \n",
       "Witbier                          3.550000      3.650000  \n",
       "\n",
       "[93 rows x 8 columns]"
      ]
     },
     "execution_count": 21,
     "metadata": {},
     "output_type": "execute_result"
    }
   ],
   "source": [
    "gr.mean()"
   ]
  },
  {
   "cell_type": "markdown",
   "metadata": {
    "slideshow": {
     "slide_type": "subslide"
    }
   },
   "source": [
    "By default the aggregation functions get applied to all columns, but we can subset:"
   ]
  },
  {
   "cell_type": "code",
   "execution_count": 24,
   "metadata": {
    "collapsed": false
   },
   "outputs": [
    {
     "data": {
      "text/html": [
       "<div>\n",
       "<table border=\"1\" class=\"dataframe\">\n",
       "  <thead>\n",
       "    <tr style=\"text-align: right;\">\n",
       "      <th></th>\n",
       "      <th>review_appearance</th>\n",
       "      <th>review_aroma</th>\n",
       "      <th>review_overall</th>\n",
       "      <th>review_palate</th>\n",
       "      <th>review_taste</th>\n",
       "    </tr>\n",
       "    <tr>\n",
       "      <th>beer_style</th>\n",
       "      <th></th>\n",
       "      <th></th>\n",
       "      <th></th>\n",
       "      <th></th>\n",
       "      <th></th>\n",
       "    </tr>\n",
       "  </thead>\n",
       "  <tbody>\n",
       "    <tr>\n",
       "      <th>Altbier</th>\n",
       "      <td>4.000000</td>\n",
       "      <td>3.750000</td>\n",
       "      <td>4.000000</td>\n",
       "      <td>3.750000</td>\n",
       "      <td>4.000000</td>\n",
       "    </tr>\n",
       "    <tr>\n",
       "      <th>American Adjunct Lager</th>\n",
       "      <td>2.954545</td>\n",
       "      <td>2.613636</td>\n",
       "      <td>3.272727</td>\n",
       "      <td>2.909091</td>\n",
       "      <td>2.750000</td>\n",
       "    </tr>\n",
       "    <tr>\n",
       "      <th>American Amber / Red Ale</th>\n",
       "      <td>3.740741</td>\n",
       "      <td>3.592593</td>\n",
       "      <td>3.870370</td>\n",
       "      <td>3.555556</td>\n",
       "      <td>3.777778</td>\n",
       "    </tr>\n",
       "    <tr>\n",
       "      <th>American Amber / Red Lager</th>\n",
       "      <td>3.437500</td>\n",
       "      <td>3.312500</td>\n",
       "      <td>3.375000</td>\n",
       "      <td>3.187500</td>\n",
       "      <td>3.125000</td>\n",
       "    </tr>\n",
       "    <tr>\n",
       "      <th>American Barleywine</th>\n",
       "      <td>3.958333</td>\n",
       "      <td>3.937500</td>\n",
       "      <td>3.729167</td>\n",
       "      <td>3.895833</td>\n",
       "      <td>3.937500</td>\n",
       "    </tr>\n",
       "    <tr>\n",
       "      <th>...</th>\n",
       "      <td>...</td>\n",
       "      <td>...</td>\n",
       "      <td>...</td>\n",
       "      <td>...</td>\n",
       "      <td>...</td>\n",
       "    </tr>\n",
       "    <tr>\n",
       "      <th>Tripel</th>\n",
       "      <td>4.264706</td>\n",
       "      <td>4.088235</td>\n",
       "      <td>3.970588</td>\n",
       "      <td>3.911765</td>\n",
       "      <td>4.176471</td>\n",
       "    </tr>\n",
       "    <tr>\n",
       "      <th>Vienna Lager</th>\n",
       "      <td>3.500000</td>\n",
       "      <td>3.250000</td>\n",
       "      <td>3.375000</td>\n",
       "      <td>3.562500</td>\n",
       "      <td>3.312500</td>\n",
       "    </tr>\n",
       "    <tr>\n",
       "      <th>Weizenbock</th>\n",
       "      <td>4.000000</td>\n",
       "      <td>3.750000</td>\n",
       "      <td>4.250000</td>\n",
       "      <td>4.250000</td>\n",
       "      <td>4.250000</td>\n",
       "    </tr>\n",
       "    <tr>\n",
       "      <th>Wheatwine</th>\n",
       "      <td>3.800000</td>\n",
       "      <td>4.000000</td>\n",
       "      <td>3.500000</td>\n",
       "      <td>4.000000</td>\n",
       "      <td>3.700000</td>\n",
       "    </tr>\n",
       "    <tr>\n",
       "      <th>Witbier</th>\n",
       "      <td>3.750000</td>\n",
       "      <td>3.650000</td>\n",
       "      <td>3.600000</td>\n",
       "      <td>3.550000</td>\n",
       "      <td>3.650000</td>\n",
       "    </tr>\n",
       "  </tbody>\n",
       "</table>\n",
       "<p>93 rows × 5 columns</p>\n",
       "</div>"
      ],
      "text/plain": [
       "                            review_appearance  review_aroma  review_overall  \\\n",
       "beer_style                                                                    \n",
       "Altbier                              4.000000      3.750000        4.000000   \n",
       "American Adjunct Lager               2.954545      2.613636        3.272727   \n",
       "American Amber / Red Ale             3.740741      3.592593        3.870370   \n",
       "American Amber / Red Lager           3.437500      3.312500        3.375000   \n",
       "American Barleywine                  3.958333      3.937500        3.729167   \n",
       "...                                       ...           ...             ...   \n",
       "Tripel                               4.264706      4.088235        3.970588   \n",
       "Vienna Lager                         3.500000      3.250000        3.375000   \n",
       "Weizenbock                           4.000000      3.750000        4.250000   \n",
       "Wheatwine                            3.800000      4.000000        3.500000   \n",
       "Witbier                              3.750000      3.650000        3.600000   \n",
       "\n",
       "                            review_palate  review_taste  \n",
       "beer_style                                               \n",
       "Altbier                          3.750000      4.000000  \n",
       "American Adjunct Lager           2.909091      2.750000  \n",
       "American Amber / Red Ale         3.555556      3.777778  \n",
       "American Amber / Red Lager       3.187500      3.125000  \n",
       "American Barleywine              3.895833      3.937500  \n",
       "...                                   ...           ...  \n",
       "Tripel                           3.911765      4.176471  \n",
       "Vienna Lager                     3.562500      3.312500  \n",
       "Weizenbock                       4.250000      4.250000  \n",
       "Wheatwine                        4.000000      3.700000  \n",
       "Witbier                          3.550000      3.650000  \n",
       "\n",
       "[93 rows x 5 columns]"
      ]
     },
     "execution_count": 24,
     "metadata": {},
     "output_type": "execute_result"
    }
   ],
   "source": [
    "gr[review_cols].agg('mean')"
   ]
  },
  {
   "cell_type": "markdown",
   "metadata": {
    "slideshow": {
     "slide_type": "fragment"
    }
   },
   "source": [
    "`.` attribute lookup works as well."
   ]
  },
  {
   "cell_type": "code",
   "execution_count": 25,
   "metadata": {
    "collapsed": false
   },
   "outputs": [
    {
     "data": {
      "text/plain": [
       "beer_style\n",
       "Altbier                        5.850000\n",
       "American Adjunct Lager         4.872727\n",
       "American Amber / Red Ale       6.195652\n",
       "American Amber / Red Lager     4.822857\n",
       "American Barleywine           10.208333\n",
       "                                ...    \n",
       "Tripel                         9.329412\n",
       "Vienna Lager                   4.985714\n",
       "Weizenbock                     8.350000\n",
       "Wheatwine                     11.075000\n",
       "Witbier                        6.175000\n",
       "Name: abv, dtype: float64"
      ]
     },
     "execution_count": 25,
     "metadata": {},
     "output_type": "execute_result"
    }
   ],
   "source": [
    "gr.abv.agg('mean')"
   ]
  },
  {
   "cell_type": "code",
   "execution_count": 26,
   "metadata": {
    "collapsed": false,
    "slideshow": {
     "slide_type": "fragment"
    }
   },
   "outputs": [
    {
     "data": {
      "text/plain": [
       "beer_style\n",
       "Altbier                        5.850000\n",
       "American Adjunct Lager         4.872727\n",
       "American Amber / Red Ale       6.195652\n",
       "American Amber / Red Lager     4.822857\n",
       "American Barleywine           10.208333\n",
       "                                ...    \n",
       "Tripel                         9.329412\n",
       "Vienna Lager                   4.985714\n",
       "Weizenbock                     8.350000\n",
       "Wheatwine                     11.075000\n",
       "Witbier                        6.175000\n",
       "Name: abv, dtype: float64"
      ]
     },
     "execution_count": 26,
     "metadata": {},
     "output_type": "execute_result"
    }
   ],
   "source": [
    "gr.abv.mean()"
   ]
  },
  {
   "cell_type": "markdown",
   "metadata": {
    "slideshow": {
     "slide_type": "subslide"
    }
   },
   "source": [
    "### Example\n",
    "\n",
    "Find the `beer_styles` with the greatest variance in `abv`:"
   ]
  },
  {
   "cell_type": "code",
   "execution_count": 29,
   "metadata": {
    "collapsed": false,
    "slideshow": {
     "slide_type": "fragment"
    }
   },
   "outputs": [
    {
     "data": {
      "text/plain": [
       "<pandas.core.groupby.SeriesGroupBy object at 0x1181eb390>"
      ]
     },
     "execution_count": 29,
     "metadata": {},
     "output_type": "execute_result"
    }
   ],
   "source": [
    "df.groupby('beer_style').abv"
   ]
  },
  {
   "cell_type": "code",
   "execution_count": 30,
   "metadata": {
    "collapsed": false,
    "slideshow": {
     "slide_type": "fragment"
    }
   },
   "outputs": [
    {
     "data": {
      "text/plain": [
       "beer_style\n",
       "Altbier                       1.202082\n",
       "American Adjunct Lager        0.414248\n",
       "American Amber / Red Ale      1.337392\n",
       "American Amber / Red Lager    0.924296\n",
       "American Barleywine           1.165040\n",
       "                                ...   \n",
       "Tripel                        0.890761\n",
       "Vienna Lager                  0.779805\n",
       "Weizenbock                    0.212132\n",
       "Wheatwine                     0.788987\n",
       "Witbier                       1.899598\n",
       "Name: abv, dtype: float64"
      ]
     },
     "execution_count": 30,
     "metadata": {},
     "output_type": "execute_result"
    }
   ],
   "source": [
    "df.groupby('beer_style').abv.std()"
   ]
  },
  {
   "cell_type": "code",
   "execution_count": 31,
   "metadata": {
    "collapsed": false,
    "slideshow": {
     "slide_type": "fragment"
    }
   },
   "outputs": [
    {
     "data": {
      "text/plain": [
       "beer_style\n",
       "Flanders Oud Bruin                  3.915354\n",
       "Old Ale                             2.178532\n",
       "Russian Imperial Stout              2.141669\n",
       "American Double / Imperial Stout    2.021157\n",
       "Fruit / Vegetable Beer              1.964282\n",
       "                                      ...   \n",
       "Kristalweizen                            NaN\n",
       "Lambic - Unblended                       NaN\n",
       "Rauchbier                                NaN\n",
       "Roggenbier                               NaN\n",
       "Sahti                                    NaN\n",
       "Name: abv, dtype: float64"
      ]
     },
     "execution_count": 31,
     "metadata": {},
     "output_type": "execute_result"
    }
   ],
   "source": [
    "df.groupby('beer_style').abv.std().sort_values(ascending=False)"
   ]
  },
  {
   "cell_type": "markdown",
   "metadata": {
    "slideshow": {
     "slide_type": "subslide"
    }
   },
   "source": [
    "### Some more complex examples"
   ]
  },
  {
   "cell_type": "markdown",
   "metadata": {
    "slideshow": {
     "slide_type": "fragment"
    }
   },
   "source": [
    "Multiple aggregations on one column"
   ]
  },
  {
   "cell_type": "code",
   "execution_count": 32,
   "metadata": {
    "collapsed": false
   },
   "outputs": [
    {
     "data": {
      "text/html": [
       "<div>\n",
       "<table border=\"1\" class=\"dataframe\">\n",
       "  <thead>\n",
       "    <tr style=\"text-align: right;\">\n",
       "      <th></th>\n",
       "      <th>mean</th>\n",
       "      <th>std</th>\n",
       "      <th>count</th>\n",
       "    </tr>\n",
       "    <tr>\n",
       "      <th>beer_style</th>\n",
       "      <th></th>\n",
       "      <th></th>\n",
       "      <th></th>\n",
       "    </tr>\n",
       "  </thead>\n",
       "  <tbody>\n",
       "    <tr>\n",
       "      <th>Altbier</th>\n",
       "      <td>3.750000</td>\n",
       "      <td>0.353553</td>\n",
       "      <td>2</td>\n",
       "    </tr>\n",
       "    <tr>\n",
       "      <th>American Adjunct Lager</th>\n",
       "      <td>2.613636</td>\n",
       "      <td>0.596255</td>\n",
       "      <td>22</td>\n",
       "    </tr>\n",
       "    <tr>\n",
       "      <th>American Amber / Red Ale</th>\n",
       "      <td>3.592593</td>\n",
       "      <td>0.636049</td>\n",
       "      <td>27</td>\n",
       "    </tr>\n",
       "    <tr>\n",
       "      <th>American Amber / Red Lager</th>\n",
       "      <td>3.312500</td>\n",
       "      <td>0.842509</td>\n",
       "      <td>8</td>\n",
       "    </tr>\n",
       "    <tr>\n",
       "      <th>American Barleywine</th>\n",
       "      <td>3.937500</td>\n",
       "      <td>0.449940</td>\n",
       "      <td>24</td>\n",
       "    </tr>\n",
       "  </tbody>\n",
       "</table>\n",
       "</div>"
      ],
      "text/plain": [
       "                                mean       std  count\n",
       "beer_style                                           \n",
       "Altbier                     3.750000  0.353553      2\n",
       "American Adjunct Lager      2.613636  0.596255     22\n",
       "American Amber / Red Ale    3.592593  0.636049     27\n",
       "American Amber / Red Lager  3.312500  0.842509      8\n",
       "American Barleywine         3.937500  0.449940     24"
      ]
     },
     "execution_count": 32,
     "metadata": {},
     "output_type": "execute_result"
    }
   ],
   "source": [
    "gr['review_aroma'].agg(['mean', np.std, 'count']).head()"
   ]
  },
  {
   "cell_type": "markdown",
   "metadata": {
    "slideshow": {
     "slide_type": "fragment"
    }
   },
   "source": [
    "Single aggregation on multiple columns"
   ]
  },
  {
   "cell_type": "code",
   "execution_count": 33,
   "metadata": {
    "collapsed": false
   },
   "outputs": [
    {
     "data": {
      "text/html": [
       "<div>\n",
       "<table border=\"1\" class=\"dataframe\">\n",
       "  <thead>\n",
       "    <tr style=\"text-align: right;\">\n",
       "      <th></th>\n",
       "      <th>review_appearance</th>\n",
       "      <th>review_aroma</th>\n",
       "      <th>review_overall</th>\n",
       "      <th>review_palate</th>\n",
       "      <th>review_taste</th>\n",
       "    </tr>\n",
       "    <tr>\n",
       "      <th>beer_style</th>\n",
       "      <th></th>\n",
       "      <th></th>\n",
       "      <th></th>\n",
       "      <th></th>\n",
       "      <th></th>\n",
       "    </tr>\n",
       "  </thead>\n",
       "  <tbody>\n",
       "    <tr>\n",
       "      <th>Altbier</th>\n",
       "      <td>4.000000</td>\n",
       "      <td>3.750000</td>\n",
       "      <td>4.000000</td>\n",
       "      <td>3.750000</td>\n",
       "      <td>4.000000</td>\n",
       "    </tr>\n",
       "    <tr>\n",
       "      <th>American Adjunct Lager</th>\n",
       "      <td>2.954545</td>\n",
       "      <td>2.613636</td>\n",
       "      <td>3.272727</td>\n",
       "      <td>2.909091</td>\n",
       "      <td>2.750000</td>\n",
       "    </tr>\n",
       "    <tr>\n",
       "      <th>American Amber / Red Ale</th>\n",
       "      <td>3.740741</td>\n",
       "      <td>3.592593</td>\n",
       "      <td>3.870370</td>\n",
       "      <td>3.555556</td>\n",
       "      <td>3.777778</td>\n",
       "    </tr>\n",
       "    <tr>\n",
       "      <th>American Amber / Red Lager</th>\n",
       "      <td>3.437500</td>\n",
       "      <td>3.312500</td>\n",
       "      <td>3.375000</td>\n",
       "      <td>3.187500</td>\n",
       "      <td>3.125000</td>\n",
       "    </tr>\n",
       "    <tr>\n",
       "      <th>American Barleywine</th>\n",
       "      <td>3.958333</td>\n",
       "      <td>3.937500</td>\n",
       "      <td>3.729167</td>\n",
       "      <td>3.895833</td>\n",
       "      <td>3.937500</td>\n",
       "    </tr>\n",
       "    <tr>\n",
       "      <th>...</th>\n",
       "      <td>...</td>\n",
       "      <td>...</td>\n",
       "      <td>...</td>\n",
       "      <td>...</td>\n",
       "      <td>...</td>\n",
       "    </tr>\n",
       "    <tr>\n",
       "      <th>Tripel</th>\n",
       "      <td>4.264706</td>\n",
       "      <td>4.088235</td>\n",
       "      <td>3.970588</td>\n",
       "      <td>3.911765</td>\n",
       "      <td>4.176471</td>\n",
       "    </tr>\n",
       "    <tr>\n",
       "      <th>Vienna Lager</th>\n",
       "      <td>3.500000</td>\n",
       "      <td>3.250000</td>\n",
       "      <td>3.375000</td>\n",
       "      <td>3.562500</td>\n",
       "      <td>3.312500</td>\n",
       "    </tr>\n",
       "    <tr>\n",
       "      <th>Weizenbock</th>\n",
       "      <td>4.000000</td>\n",
       "      <td>3.750000</td>\n",
       "      <td>4.250000</td>\n",
       "      <td>4.250000</td>\n",
       "      <td>4.250000</td>\n",
       "    </tr>\n",
       "    <tr>\n",
       "      <th>Wheatwine</th>\n",
       "      <td>3.800000</td>\n",
       "      <td>4.000000</td>\n",
       "      <td>3.500000</td>\n",
       "      <td>4.000000</td>\n",
       "      <td>3.700000</td>\n",
       "    </tr>\n",
       "    <tr>\n",
       "      <th>Witbier</th>\n",
       "      <td>3.750000</td>\n",
       "      <td>3.650000</td>\n",
       "      <td>3.600000</td>\n",
       "      <td>3.550000</td>\n",
       "      <td>3.650000</td>\n",
       "    </tr>\n",
       "  </tbody>\n",
       "</table>\n",
       "<p>93 rows × 5 columns</p>\n",
       "</div>"
      ],
      "text/plain": [
       "                            review_appearance  review_aroma  review_overall  \\\n",
       "beer_style                                                                    \n",
       "Altbier                              4.000000      3.750000        4.000000   \n",
       "American Adjunct Lager               2.954545      2.613636        3.272727   \n",
       "American Amber / Red Ale             3.740741      3.592593        3.870370   \n",
       "American Amber / Red Lager           3.437500      3.312500        3.375000   \n",
       "American Barleywine                  3.958333      3.937500        3.729167   \n",
       "...                                       ...           ...             ...   \n",
       "Tripel                               4.264706      4.088235        3.970588   \n",
       "Vienna Lager                         3.500000      3.250000        3.375000   \n",
       "Weizenbock                           4.000000      3.750000        4.250000   \n",
       "Wheatwine                            3.800000      4.000000        3.500000   \n",
       "Witbier                              3.750000      3.650000        3.600000   \n",
       "\n",
       "                            review_palate  review_taste  \n",
       "beer_style                                               \n",
       "Altbier                          3.750000      4.000000  \n",
       "American Adjunct Lager           2.909091      2.750000  \n",
       "American Amber / Red Ale         3.555556      3.777778  \n",
       "American Amber / Red Lager       3.187500      3.125000  \n",
       "American Barleywine              3.895833      3.937500  \n",
       "...                                   ...           ...  \n",
       "Tripel                           3.911765      4.176471  \n",
       "Vienna Lager                     3.562500      3.312500  \n",
       "Weizenbock                       4.250000      4.250000  \n",
       "Wheatwine                        4.000000      3.700000  \n",
       "Witbier                          3.550000      3.650000  \n",
       "\n",
       "[93 rows x 5 columns]"
      ]
     },
     "execution_count": 33,
     "metadata": {},
     "output_type": "execute_result"
    }
   ],
   "source": [
    "gr[review_cols].mean()"
   ]
  },
  {
   "cell_type": "markdown",
   "metadata": {
    "slideshow": {
     "slide_type": "fragment"
    }
   },
   "source": [
    "Multiple aggregations on multiple columns"
   ]
  },
  {
   "cell_type": "code",
   "execution_count": 34,
   "metadata": {
    "collapsed": false
   },
   "outputs": [
    {
     "data": {
      "text/html": [
       "<div>\n",
       "<table border=\"1\" class=\"dataframe\">\n",
       "  <thead>\n",
       "    <tr>\n",
       "      <th></th>\n",
       "      <th colspan=\"3\" halign=\"left\">review_appearance</th>\n",
       "      <th colspan=\"3\" halign=\"left\">review_aroma</th>\n",
       "      <th colspan=\"3\" halign=\"left\">review_overall</th>\n",
       "      <th colspan=\"3\" halign=\"left\">review_palate</th>\n",
       "      <th colspan=\"3\" halign=\"left\">review_taste</th>\n",
       "    </tr>\n",
       "    <tr>\n",
       "      <th></th>\n",
       "      <th>mean</th>\n",
       "      <th>count</th>\n",
       "      <th>std</th>\n",
       "      <th>mean</th>\n",
       "      <th>count</th>\n",
       "      <th>std</th>\n",
       "      <th>mean</th>\n",
       "      <th>count</th>\n",
       "      <th>std</th>\n",
       "      <th>mean</th>\n",
       "      <th>count</th>\n",
       "      <th>std</th>\n",
       "      <th>mean</th>\n",
       "      <th>count</th>\n",
       "      <th>std</th>\n",
       "    </tr>\n",
       "    <tr>\n",
       "      <th>beer_style</th>\n",
       "      <th></th>\n",
       "      <th></th>\n",
       "      <th></th>\n",
       "      <th></th>\n",
       "      <th></th>\n",
       "      <th></th>\n",
       "      <th></th>\n",
       "      <th></th>\n",
       "      <th></th>\n",
       "      <th></th>\n",
       "      <th></th>\n",
       "      <th></th>\n",
       "      <th></th>\n",
       "      <th></th>\n",
       "      <th></th>\n",
       "    </tr>\n",
       "  </thead>\n",
       "  <tbody>\n",
       "    <tr>\n",
       "      <th>Altbier</th>\n",
       "      <td>4.000000</td>\n",
       "      <td>2</td>\n",
       "      <td>0.707107</td>\n",
       "      <td>3.750000</td>\n",
       "      <td>2</td>\n",
       "      <td>0.353553</td>\n",
       "      <td>4.000000</td>\n",
       "      <td>2</td>\n",
       "      <td>0.000000</td>\n",
       "      <td>3.750000</td>\n",
       "      <td>2</td>\n",
       "      <td>0.353553</td>\n",
       "      <td>4.000000</td>\n",
       "      <td>2</td>\n",
       "      <td>0.000000</td>\n",
       "    </tr>\n",
       "    <tr>\n",
       "      <th>American Adjunct Lager</th>\n",
       "      <td>2.954545</td>\n",
       "      <td>22</td>\n",
       "      <td>0.722250</td>\n",
       "      <td>2.613636</td>\n",
       "      <td>22</td>\n",
       "      <td>0.596255</td>\n",
       "      <td>3.272727</td>\n",
       "      <td>22</td>\n",
       "      <td>0.667748</td>\n",
       "      <td>2.909091</td>\n",
       "      <td>22</td>\n",
       "      <td>0.478996</td>\n",
       "      <td>2.750000</td>\n",
       "      <td>22</td>\n",
       "      <td>0.631514</td>\n",
       "    </tr>\n",
       "    <tr>\n",
       "      <th>American Amber / Red Ale</th>\n",
       "      <td>3.740741</td>\n",
       "      <td>27</td>\n",
       "      <td>0.625890</td>\n",
       "      <td>3.592593</td>\n",
       "      <td>27</td>\n",
       "      <td>0.636049</td>\n",
       "      <td>3.870370</td>\n",
       "      <td>27</td>\n",
       "      <td>0.629294</td>\n",
       "      <td>3.555556</td>\n",
       "      <td>27</td>\n",
       "      <td>0.640513</td>\n",
       "      <td>3.777778</td>\n",
       "      <td>27</td>\n",
       "      <td>0.763763</td>\n",
       "    </tr>\n",
       "    <tr>\n",
       "      <th>American Amber / Red Lager</th>\n",
       "      <td>3.437500</td>\n",
       "      <td>8</td>\n",
       "      <td>0.417261</td>\n",
       "      <td>3.312500</td>\n",
       "      <td>8</td>\n",
       "      <td>0.842509</td>\n",
       "      <td>3.375000</td>\n",
       "      <td>8</td>\n",
       "      <td>1.187735</td>\n",
       "      <td>3.187500</td>\n",
       "      <td>8</td>\n",
       "      <td>0.961305</td>\n",
       "      <td>3.125000</td>\n",
       "      <td>8</td>\n",
       "      <td>1.125992</td>\n",
       "    </tr>\n",
       "    <tr>\n",
       "      <th>American Barleywine</th>\n",
       "      <td>3.958333</td>\n",
       "      <td>24</td>\n",
       "      <td>0.529903</td>\n",
       "      <td>3.937500</td>\n",
       "      <td>24</td>\n",
       "      <td>0.449940</td>\n",
       "      <td>3.729167</td>\n",
       "      <td>24</td>\n",
       "      <td>0.465766</td>\n",
       "      <td>3.895833</td>\n",
       "      <td>24</td>\n",
       "      <td>0.389514</td>\n",
       "      <td>3.937500</td>\n",
       "      <td>24</td>\n",
       "      <td>0.517362</td>\n",
       "    </tr>\n",
       "    <tr>\n",
       "      <th>...</th>\n",
       "      <td>...</td>\n",
       "      <td>...</td>\n",
       "      <td>...</td>\n",
       "      <td>...</td>\n",
       "      <td>...</td>\n",
       "      <td>...</td>\n",
       "      <td>...</td>\n",
       "      <td>...</td>\n",
       "      <td>...</td>\n",
       "      <td>...</td>\n",
       "      <td>...</td>\n",
       "      <td>...</td>\n",
       "      <td>...</td>\n",
       "      <td>...</td>\n",
       "      <td>...</td>\n",
       "    </tr>\n",
       "    <tr>\n",
       "      <th>Tripel</th>\n",
       "      <td>4.264706</td>\n",
       "      <td>17</td>\n",
       "      <td>0.358715</td>\n",
       "      <td>4.088235</td>\n",
       "      <td>17</td>\n",
       "      <td>0.363803</td>\n",
       "      <td>3.970588</td>\n",
       "      <td>17</td>\n",
       "      <td>0.329326</td>\n",
       "      <td>3.911765</td>\n",
       "      <td>17</td>\n",
       "      <td>0.317967</td>\n",
       "      <td>4.176471</td>\n",
       "      <td>17</td>\n",
       "      <td>0.350944</td>\n",
       "    </tr>\n",
       "    <tr>\n",
       "      <th>Vienna Lager</th>\n",
       "      <td>3.500000</td>\n",
       "      <td>8</td>\n",
       "      <td>0.377964</td>\n",
       "      <td>3.250000</td>\n",
       "      <td>8</td>\n",
       "      <td>0.534522</td>\n",
       "      <td>3.375000</td>\n",
       "      <td>8</td>\n",
       "      <td>0.517549</td>\n",
       "      <td>3.562500</td>\n",
       "      <td>8</td>\n",
       "      <td>0.678101</td>\n",
       "      <td>3.312500</td>\n",
       "      <td>8</td>\n",
       "      <td>0.458063</td>\n",
       "    </tr>\n",
       "    <tr>\n",
       "      <th>Weizenbock</th>\n",
       "      <td>4.000000</td>\n",
       "      <td>2</td>\n",
       "      <td>0.000000</td>\n",
       "      <td>3.750000</td>\n",
       "      <td>2</td>\n",
       "      <td>0.353553</td>\n",
       "      <td>4.250000</td>\n",
       "      <td>2</td>\n",
       "      <td>0.353553</td>\n",
       "      <td>4.250000</td>\n",
       "      <td>2</td>\n",
       "      <td>0.353553</td>\n",
       "      <td>4.250000</td>\n",
       "      <td>2</td>\n",
       "      <td>0.353553</td>\n",
       "    </tr>\n",
       "    <tr>\n",
       "      <th>Wheatwine</th>\n",
       "      <td>3.800000</td>\n",
       "      <td>5</td>\n",
       "      <td>0.273861</td>\n",
       "      <td>4.000000</td>\n",
       "      <td>5</td>\n",
       "      <td>0.353553</td>\n",
       "      <td>3.500000</td>\n",
       "      <td>5</td>\n",
       "      <td>0.353553</td>\n",
       "      <td>4.000000</td>\n",
       "      <td>5</td>\n",
       "      <td>0.000000</td>\n",
       "      <td>3.700000</td>\n",
       "      <td>5</td>\n",
       "      <td>0.447214</td>\n",
       "    </tr>\n",
       "    <tr>\n",
       "      <th>Witbier</th>\n",
       "      <td>3.750000</td>\n",
       "      <td>10</td>\n",
       "      <td>0.540062</td>\n",
       "      <td>3.650000</td>\n",
       "      <td>10</td>\n",
       "      <td>0.625833</td>\n",
       "      <td>3.600000</td>\n",
       "      <td>10</td>\n",
       "      <td>0.658281</td>\n",
       "      <td>3.550000</td>\n",
       "      <td>10</td>\n",
       "      <td>0.761942</td>\n",
       "      <td>3.650000</td>\n",
       "      <td>10</td>\n",
       "      <td>0.529675</td>\n",
       "    </tr>\n",
       "  </tbody>\n",
       "</table>\n",
       "<p>93 rows × 15 columns</p>\n",
       "</div>"
      ],
      "text/plain": [
       "                           review_appearance                 review_aroma  \\\n",
       "                                        mean count       std         mean   \n",
       "beer_style                                                                  \n",
       "Altbier                             4.000000     2  0.707107     3.750000   \n",
       "American Adjunct Lager              2.954545    22  0.722250     2.613636   \n",
       "American Amber / Red Ale            3.740741    27  0.625890     3.592593   \n",
       "American Amber / Red Lager          3.437500     8  0.417261     3.312500   \n",
       "American Barleywine                 3.958333    24  0.529903     3.937500   \n",
       "...                                      ...   ...       ...          ...   \n",
       "Tripel                              4.264706    17  0.358715     4.088235   \n",
       "Vienna Lager                        3.500000     8  0.377964     3.250000   \n",
       "Weizenbock                          4.000000     2  0.000000     3.750000   \n",
       "Wheatwine                           3.800000     5  0.273861     4.000000   \n",
       "Witbier                             3.750000    10  0.540062     3.650000   \n",
       "\n",
       "                                           review_overall                  \\\n",
       "                           count       std           mean count       std   \n",
       "beer_style                                                                  \n",
       "Altbier                        2  0.353553       4.000000     2  0.000000   \n",
       "American Adjunct Lager        22  0.596255       3.272727    22  0.667748   \n",
       "American Amber / Red Ale      27  0.636049       3.870370    27  0.629294   \n",
       "American Amber / Red Lager     8  0.842509       3.375000     8  1.187735   \n",
       "American Barleywine           24  0.449940       3.729167    24  0.465766   \n",
       "...                          ...       ...            ...   ...       ...   \n",
       "Tripel                        17  0.363803       3.970588    17  0.329326   \n",
       "Vienna Lager                   8  0.534522       3.375000     8  0.517549   \n",
       "Weizenbock                     2  0.353553       4.250000     2  0.353553   \n",
       "Wheatwine                      5  0.353553       3.500000     5  0.353553   \n",
       "Witbier                       10  0.625833       3.600000    10  0.658281   \n",
       "\n",
       "                           review_palate                 review_taste        \\\n",
       "                                    mean count       std         mean count   \n",
       "beer_style                                                                    \n",
       "Altbier                         3.750000     2  0.353553     4.000000     2   \n",
       "American Adjunct Lager          2.909091    22  0.478996     2.750000    22   \n",
       "American Amber / Red Ale        3.555556    27  0.640513     3.777778    27   \n",
       "American Amber / Red Lager      3.187500     8  0.961305     3.125000     8   \n",
       "American Barleywine             3.895833    24  0.389514     3.937500    24   \n",
       "...                                  ...   ...       ...          ...   ...   \n",
       "Tripel                          3.911765    17  0.317967     4.176471    17   \n",
       "Vienna Lager                    3.562500     8  0.678101     3.312500     8   \n",
       "Weizenbock                      4.250000     2  0.353553     4.250000     2   \n",
       "Wheatwine                       4.000000     5  0.000000     3.700000     5   \n",
       "Witbier                         3.550000    10  0.761942     3.650000    10   \n",
       "\n",
       "                                      \n",
       "                                 std  \n",
       "beer_style                            \n",
       "Altbier                     0.000000  \n",
       "American Adjunct Lager      0.631514  \n",
       "American Amber / Red Ale    0.763763  \n",
       "American Amber / Red Lager  1.125992  \n",
       "American Barleywine         0.517362  \n",
       "...                              ...  \n",
       "Tripel                      0.350944  \n",
       "Vienna Lager                0.458063  \n",
       "Weizenbock                  0.353553  \n",
       "Wheatwine                   0.447214  \n",
       "Witbier                     0.529675  \n",
       "\n",
       "[93 rows x 15 columns]"
      ]
     },
     "execution_count": 34,
     "metadata": {},
     "output_type": "execute_result"
    }
   ],
   "source": [
    "gr[review_cols].agg(['mean', 'count', 'std'])"
   ]
  },
  {
   "cell_type": "markdown",
   "metadata": {
    "slideshow": {
     "slide_type": "fragment"
    }
   },
   "source": [
    "Hierarchical Indexes in the columns can be awkward to work with, so you can move a level to the Index with `.stack`:"
   ]
  },
  {
   "cell_type": "code",
   "execution_count": 35,
   "metadata": {
    "collapsed": false
   },
   "outputs": [
    {
     "data": {
      "text/html": [
       "<div>\n",
       "<table border=\"1\" class=\"dataframe\">\n",
       "  <thead>\n",
       "    <tr style=\"text-align: right;\">\n",
       "      <th></th>\n",
       "      <th></th>\n",
       "      <th>mean</th>\n",
       "      <th>count</th>\n",
       "      <th>std</th>\n",
       "    </tr>\n",
       "    <tr>\n",
       "      <th>beer_style</th>\n",
       "      <th></th>\n",
       "      <th></th>\n",
       "      <th></th>\n",
       "      <th></th>\n",
       "    </tr>\n",
       "  </thead>\n",
       "  <tbody>\n",
       "    <tr>\n",
       "      <th rowspan=\"5\" valign=\"top\">Altbier</th>\n",
       "      <th>review_appearance</th>\n",
       "      <td>4.000000</td>\n",
       "      <td>2</td>\n",
       "      <td>0.707107</td>\n",
       "    </tr>\n",
       "    <tr>\n",
       "      <th>review_aroma</th>\n",
       "      <td>3.750000</td>\n",
       "      <td>2</td>\n",
       "      <td>0.353553</td>\n",
       "    </tr>\n",
       "    <tr>\n",
       "      <th>review_overall</th>\n",
       "      <td>4.000000</td>\n",
       "      <td>2</td>\n",
       "      <td>0.000000</td>\n",
       "    </tr>\n",
       "    <tr>\n",
       "      <th>review_palate</th>\n",
       "      <td>3.750000</td>\n",
       "      <td>2</td>\n",
       "      <td>0.353553</td>\n",
       "    </tr>\n",
       "    <tr>\n",
       "      <th>review_taste</th>\n",
       "      <td>4.000000</td>\n",
       "      <td>2</td>\n",
       "      <td>0.000000</td>\n",
       "    </tr>\n",
       "    <tr>\n",
       "      <th rowspan=\"5\" valign=\"top\">American Adjunct Lager</th>\n",
       "      <th>review_appearance</th>\n",
       "      <td>2.954545</td>\n",
       "      <td>22</td>\n",
       "      <td>0.722250</td>\n",
       "    </tr>\n",
       "    <tr>\n",
       "      <th>review_aroma</th>\n",
       "      <td>2.613636</td>\n",
       "      <td>22</td>\n",
       "      <td>0.596255</td>\n",
       "    </tr>\n",
       "    <tr>\n",
       "      <th>review_overall</th>\n",
       "      <td>3.272727</td>\n",
       "      <td>22</td>\n",
       "      <td>0.667748</td>\n",
       "    </tr>\n",
       "    <tr>\n",
       "      <th>review_palate</th>\n",
       "      <td>2.909091</td>\n",
       "      <td>22</td>\n",
       "      <td>0.478996</td>\n",
       "    </tr>\n",
       "    <tr>\n",
       "      <th>review_taste</th>\n",
       "      <td>2.750000</td>\n",
       "      <td>22</td>\n",
       "      <td>0.631514</td>\n",
       "    </tr>\n",
       "  </tbody>\n",
       "</table>\n",
       "</div>"
      ],
      "text/plain": [
       "                                              mean  count       std\n",
       "beer_style                                                         \n",
       "Altbier                review_appearance  4.000000      2  0.707107\n",
       "                       review_aroma       3.750000      2  0.353553\n",
       "                       review_overall     4.000000      2  0.000000\n",
       "                       review_palate      3.750000      2  0.353553\n",
       "                       review_taste       4.000000      2  0.000000\n",
       "American Adjunct Lager review_appearance  2.954545     22  0.722250\n",
       "                       review_aroma       2.613636     22  0.596255\n",
       "                       review_overall     3.272727     22  0.667748\n",
       "                       review_palate      2.909091     22  0.478996\n",
       "                       review_taste       2.750000     22  0.631514"
      ]
     },
     "execution_count": 35,
     "metadata": {},
     "output_type": "execute_result"
    }
   ],
   "source": [
    "multi = gr[review_cols].agg(['mean', 'count', 'std']).stack(level=0)\n",
    "multi.head(10)"
   ]
  },
  {
   "cell_type": "markdown",
   "metadata": {
    "slideshow": {
     "slide_type": "fragment"
    }
   },
   "source": [
    "You can group by **levels** of a MultiIndex:"
   ]
  },
  {
   "cell_type": "code",
   "execution_count": 36,
   "metadata": {
    "collapsed": false
   },
   "outputs": [
    {
     "data": {
      "text/html": [
       "<div>\n",
       "<table border=\"1\" class=\"dataframe\">\n",
       "  <thead>\n",
       "    <tr style=\"text-align: right;\">\n",
       "      <th></th>\n",
       "      <th>min</th>\n",
       "      <th>max</th>\n",
       "    </tr>\n",
       "    <tr>\n",
       "      <th>beer_style</th>\n",
       "      <th></th>\n",
       "      <th></th>\n",
       "    </tr>\n",
       "  </thead>\n",
       "  <tbody>\n",
       "    <tr>\n",
       "      <th>Altbier</th>\n",
       "      <td>3.750000</td>\n",
       "      <td>4.000000</td>\n",
       "    </tr>\n",
       "    <tr>\n",
       "      <th>American Adjunct Lager</th>\n",
       "      <td>2.613636</td>\n",
       "      <td>3.272727</td>\n",
       "    </tr>\n",
       "    <tr>\n",
       "      <th>American Amber / Red Ale</th>\n",
       "      <td>3.555556</td>\n",
       "      <td>3.870370</td>\n",
       "    </tr>\n",
       "    <tr>\n",
       "      <th>American Amber / Red Lager</th>\n",
       "      <td>3.125000</td>\n",
       "      <td>3.437500</td>\n",
       "    </tr>\n",
       "    <tr>\n",
       "      <th>American Barleywine</th>\n",
       "      <td>3.729167</td>\n",
       "      <td>3.958333</td>\n",
       "    </tr>\n",
       "    <tr>\n",
       "      <th>...</th>\n",
       "      <td>...</td>\n",
       "      <td>...</td>\n",
       "    </tr>\n",
       "    <tr>\n",
       "      <th>Tripel</th>\n",
       "      <td>3.911765</td>\n",
       "      <td>4.264706</td>\n",
       "    </tr>\n",
       "    <tr>\n",
       "      <th>Vienna Lager</th>\n",
       "      <td>3.250000</td>\n",
       "      <td>3.562500</td>\n",
       "    </tr>\n",
       "    <tr>\n",
       "      <th>Weizenbock</th>\n",
       "      <td>3.750000</td>\n",
       "      <td>4.250000</td>\n",
       "    </tr>\n",
       "    <tr>\n",
       "      <th>Wheatwine</th>\n",
       "      <td>3.500000</td>\n",
       "      <td>4.000000</td>\n",
       "    </tr>\n",
       "    <tr>\n",
       "      <th>Witbier</th>\n",
       "      <td>3.550000</td>\n",
       "      <td>3.750000</td>\n",
       "    </tr>\n",
       "  </tbody>\n",
       "</table>\n",
       "<p>93 rows × 2 columns</p>\n",
       "</div>"
      ],
      "text/plain": [
       "                                 min       max\n",
       "beer_style                                    \n",
       "Altbier                     3.750000  4.000000\n",
       "American Adjunct Lager      2.613636  3.272727\n",
       "American Amber / Red Ale    3.555556  3.870370\n",
       "American Amber / Red Lager  3.125000  3.437500\n",
       "American Barleywine         3.729167  3.958333\n",
       "...                              ...       ...\n",
       "Tripel                      3.911765  4.264706\n",
       "Vienna Lager                3.250000  3.562500\n",
       "Weizenbock                  3.750000  4.250000\n",
       "Wheatwine                   3.500000  4.000000\n",
       "Witbier                     3.550000  3.750000\n",
       "\n",
       "[93 rows x 2 columns]"
      ]
     },
     "execution_count": 36,
     "metadata": {},
     "output_type": "execute_result"
    }
   ],
   "source": [
    "multi.groupby(level='beer_style')['mean'].agg(['min', 'max'])"
   ]
  },
  {
   "cell_type": "markdown",
   "metadata": {
    "slideshow": {
     "slide_type": "fragment"
    }
   },
   "source": [
    "Group by **multiple** columns"
   ]
  },
  {
   "cell_type": "code",
   "execution_count": 37,
   "metadata": {
    "collapsed": false
   },
   "outputs": [
    {
     "data": {
      "text/plain": [
       "brewer_id  beer_style                \n",
       "3          American Brown Ale            4.0\n",
       "4          American Wild Ale             3.5\n",
       "           Belgian IPA                   4.0\n",
       "           Dubbel                        3.5\n",
       "           Smoked Beer                   4.0\n",
       "                                        ... \n",
       "20729      American IPA                  4.0\n",
       "21239      Schwarzbier                   3.5\n",
       "21243      American Pale Ale (APA)       3.5\n",
       "23058      American Pale Ale (APA)       2.0\n",
       "23980      American Amber / Red Lager    4.5\n",
       "Name: review_overall, dtype: float64"
      ]
     },
     "execution_count": 37,
     "metadata": {},
     "output_type": "execute_result"
    }
   ],
   "source": [
    "df.groupby(['brewer_id', 'beer_style']).review_overall.mean()"
   ]
  },
  {
   "cell_type": "code",
   "execution_count": 38,
   "metadata": {
    "collapsed": false,
    "slideshow": {
     "slide_type": "fragment"
    }
   },
   "outputs": [
    {
     "data": {
      "text/html": [
       "<div>\n",
       "<table border=\"1\" class=\"dataframe\">\n",
       "  <thead>\n",
       "    <tr style=\"text-align: right;\">\n",
       "      <th></th>\n",
       "      <th></th>\n",
       "      <th>review_appearance</th>\n",
       "      <th>review_aroma</th>\n",
       "      <th>review_overall</th>\n",
       "      <th>review_palate</th>\n",
       "      <th>review_taste</th>\n",
       "    </tr>\n",
       "    <tr>\n",
       "      <th>brewer_id</th>\n",
       "      <th>beer_style</th>\n",
       "      <th></th>\n",
       "      <th></th>\n",
       "      <th></th>\n",
       "      <th></th>\n",
       "      <th></th>\n",
       "    </tr>\n",
       "  </thead>\n",
       "  <tbody>\n",
       "    <tr>\n",
       "      <th>3</th>\n",
       "      <th>American Brown Ale</th>\n",
       "      <td>4.0</td>\n",
       "      <td>4.0</td>\n",
       "      <td>4.0</td>\n",
       "      <td>3.5</td>\n",
       "      <td>3.5</td>\n",
       "    </tr>\n",
       "    <tr>\n",
       "      <th rowspan=\"4\" valign=\"top\">4</th>\n",
       "      <th>American Wild Ale</th>\n",
       "      <td>4.5</td>\n",
       "      <td>4.0</td>\n",
       "      <td>3.5</td>\n",
       "      <td>4.0</td>\n",
       "      <td>3.5</td>\n",
       "    </tr>\n",
       "    <tr>\n",
       "      <th>Belgian IPA</th>\n",
       "      <td>4.5</td>\n",
       "      <td>4.5</td>\n",
       "      <td>4.0</td>\n",
       "      <td>4.0</td>\n",
       "      <td>4.5</td>\n",
       "    </tr>\n",
       "    <tr>\n",
       "      <th>Dubbel</th>\n",
       "      <td>4.5</td>\n",
       "      <td>3.5</td>\n",
       "      <td>3.5</td>\n",
       "      <td>4.0</td>\n",
       "      <td>4.0</td>\n",
       "    </tr>\n",
       "    <tr>\n",
       "      <th>Smoked Beer</th>\n",
       "      <td>4.5</td>\n",
       "      <td>3.5</td>\n",
       "      <td>4.0</td>\n",
       "      <td>4.0</td>\n",
       "      <td>4.0</td>\n",
       "    </tr>\n",
       "    <tr>\n",
       "      <th>...</th>\n",
       "      <th>...</th>\n",
       "      <td>...</td>\n",
       "      <td>...</td>\n",
       "      <td>...</td>\n",
       "      <td>...</td>\n",
       "      <td>...</td>\n",
       "    </tr>\n",
       "    <tr>\n",
       "      <th>20729</th>\n",
       "      <th>American IPA</th>\n",
       "      <td>4.0</td>\n",
       "      <td>4.5</td>\n",
       "      <td>4.0</td>\n",
       "      <td>4.0</td>\n",
       "      <td>4.5</td>\n",
       "    </tr>\n",
       "    <tr>\n",
       "      <th>21239</th>\n",
       "      <th>Schwarzbier</th>\n",
       "      <td>4.0</td>\n",
       "      <td>3.5</td>\n",
       "      <td>3.5</td>\n",
       "      <td>4.0</td>\n",
       "      <td>3.5</td>\n",
       "    </tr>\n",
       "    <tr>\n",
       "      <th>21243</th>\n",
       "      <th>American Pale Ale (APA)</th>\n",
       "      <td>4.0</td>\n",
       "      <td>2.5</td>\n",
       "      <td>3.5</td>\n",
       "      <td>4.0</td>\n",
       "      <td>3.0</td>\n",
       "    </tr>\n",
       "    <tr>\n",
       "      <th>23058</th>\n",
       "      <th>American Pale Ale (APA)</th>\n",
       "      <td>4.0</td>\n",
       "      <td>2.0</td>\n",
       "      <td>2.0</td>\n",
       "      <td>3.0</td>\n",
       "      <td>2.0</td>\n",
       "    </tr>\n",
       "    <tr>\n",
       "      <th>23980</th>\n",
       "      <th>American Amber / Red Lager</th>\n",
       "      <td>3.5</td>\n",
       "      <td>3.0</td>\n",
       "      <td>4.5</td>\n",
       "      <td>4.5</td>\n",
       "      <td>4.5</td>\n",
       "    </tr>\n",
       "  </tbody>\n",
       "</table>\n",
       "<p>716 rows × 5 columns</p>\n",
       "</div>"
      ],
      "text/plain": [
       "                                      review_appearance  review_aroma  \\\n",
       "brewer_id beer_style                                                    \n",
       "3         American Brown Ale                        4.0           4.0   \n",
       "4         American Wild Ale                         4.5           4.0   \n",
       "          Belgian IPA                               4.5           4.5   \n",
       "          Dubbel                                    4.5           3.5   \n",
       "          Smoked Beer                               4.5           3.5   \n",
       "...                                                 ...           ...   \n",
       "20729     American IPA                              4.0           4.5   \n",
       "21239     Schwarzbier                               4.0           3.5   \n",
       "21243     American Pale Ale (APA)                   4.0           2.5   \n",
       "23058     American Pale Ale (APA)                   4.0           2.0   \n",
       "23980     American Amber / Red Lager                3.5           3.0   \n",
       "\n",
       "                                      review_overall  review_palate  \\\n",
       "brewer_id beer_style                                                  \n",
       "3         American Brown Ale                     4.0            3.5   \n",
       "4         American Wild Ale                      3.5            4.0   \n",
       "          Belgian IPA                            4.0            4.0   \n",
       "          Dubbel                                 3.5            4.0   \n",
       "          Smoked Beer                            4.0            4.0   \n",
       "...                                              ...            ...   \n",
       "20729     American IPA                           4.0            4.0   \n",
       "21239     Schwarzbier                            3.5            4.0   \n",
       "21243     American Pale Ale (APA)                3.5            4.0   \n",
       "23058     American Pale Ale (APA)                2.0            3.0   \n",
       "23980     American Amber / Red Lager             4.5            4.5   \n",
       "\n",
       "                                      review_taste  \n",
       "brewer_id beer_style                                \n",
       "3         American Brown Ale                   3.5  \n",
       "4         American Wild Ale                    3.5  \n",
       "          Belgian IPA                          4.5  \n",
       "          Dubbel                               4.0  \n",
       "          Smoked Beer                          4.0  \n",
       "...                                            ...  \n",
       "20729     American IPA                         4.5  \n",
       "21239     Schwarzbier                          3.5  \n",
       "21243     American Pale Ale (APA)              3.0  \n",
       "23058     American Pale Ale (APA)              2.0  \n",
       "23980     American Amber / Red Lager           4.5  \n",
       "\n",
       "[716 rows x 5 columns]"
      ]
     },
     "execution_count": 38,
     "metadata": {},
     "output_type": "execute_result"
    }
   ],
   "source": [
    "df.groupby(['brewer_id', 'beer_style'])[review_cols].mean()"
   ]
  },
  {
   "cell_type": "markdown",
   "metadata": {
    "slideshow": {
     "slide_type": "subslide"
    }
   },
   "source": [
    "### Example\n",
    "Find the relationship between `review` length (the text column) and average `review_overall`"
   ]
  },
  {
   "cell_type": "code",
   "execution_count": 40,
   "metadata": {
    "collapsed": false,
    "slideshow": {
     "slide_type": "fragment"
    }
   },
   "outputs": [
    {
     "data": {
      "text/plain": [
       "0       364\n",
       "1       590\n",
       "2      1786\n",
       "3       297\n",
       "4       510\n",
       "       ... \n",
       "994     626\n",
       "995     605\n",
       "996     477\n",
       "997     478\n",
       "998     894\n",
       "Name: text, dtype: int64"
      ]
     },
     "execution_count": 40,
     "metadata": {},
     "output_type": "execute_result"
    }
   ],
   "source": [
    "df.text.str.len()"
   ]
  },
  {
   "cell_type": "code",
   "execution_count": 41,
   "metadata": {
    "collapsed": false,
    "slideshow": {
     "slide_type": "fragment"
    }
   },
   "outputs": [
    {
     "data": {
      "text/plain": [
       "<pandas.core.groupby.DataFrameGroupBy object at 0x118ac1c50>"
      ]
     },
     "execution_count": 41,
     "metadata": {},
     "output_type": "execute_result"
    }
   ],
   "source": [
    "df.groupby(df.text.str.len())"
   ]
  },
  {
   "cell_type": "code",
   "execution_count": 45,
   "metadata": {
    "collapsed": false,
    "slideshow": {
     "slide_type": "fragment"
    }
   },
   "outputs": [
    {
     "data": {
      "text/plain": [
       "text\n",
       "16      4.00\n",
       "243     4.00\n",
       "254     3.25\n",
       "255     3.00\n",
       "257     3.75\n",
       "        ... \n",
       "2668    4.00\n",
       "2699    3.50\n",
       "2764    5.00\n",
       "3678    4.50\n",
       "3828    3.50\n",
       "Name: review_overall, dtype: float64"
      ]
     },
     "execution_count": 45,
     "metadata": {},
     "output_type": "execute_result"
    }
   ],
   "source": [
    "df.groupby(df.text.str.len()).review_overall.mean()"
   ]
  },
  {
   "cell_type": "code",
   "execution_count": 48,
   "metadata": {
    "collapsed": false,
    "slideshow": {
     "slide_type": "fragment"
    }
   },
   "outputs": [
    {
     "ename": "TypeError",
     "evalue": "corr() missing 1 required positional argument: 'other'",
     "output_type": "error",
     "traceback": [
      "\u001b[0;31m---------------------------------------------------------------------------\u001b[0m",
      "\u001b[0;31mTypeError\u001b[0m                                 Traceback (most recent call last)",
      "\u001b[0;32m<ipython-input-48-2ba472412b58>\u001b[0m in \u001b[0;36m<module>\u001b[0;34m()\u001b[0m\n\u001b[0;32m----> 1\u001b[0;31m \u001b[0mdf\u001b[0m\u001b[0;34m.\u001b[0m\u001b[0mgroupby\u001b[0m\u001b[0;34m(\u001b[0m\u001b[0mdf\u001b[0m\u001b[0;34m.\u001b[0m\u001b[0mtext\u001b[0m\u001b[0;34m.\u001b[0m\u001b[0mstr\u001b[0m\u001b[0;34m.\u001b[0m\u001b[0mlen\u001b[0m\u001b[0;34m(\u001b[0m\u001b[0;34m)\u001b[0m\u001b[0;34m)\u001b[0m\u001b[0;34m.\u001b[0m\u001b[0mreview_overall\u001b[0m\u001b[0;34m.\u001b[0m\u001b[0mmean\u001b[0m\u001b[0;34m(\u001b[0m\u001b[0;34m)\u001b[0m\u001b[0;34m.\u001b[0m\u001b[0mcorr\u001b[0m\u001b[0;34m(\u001b[0m\u001b[0;34m)\u001b[0m\u001b[0;34m\u001b[0m\u001b[0m\n\u001b[0m",
      "\u001b[0;31mTypeError\u001b[0m: corr() missing 1 required positional argument: 'other'"
     ]
    }
   ],
   "source": [
    "df.groupby(df.text.str.len()).review_overall.mean().corr()"
   ]
  },
  {
   "cell_type": "code",
   "execution_count": 55,
   "metadata": {
    "collapsed": false,
    "slideshow": {
     "slide_type": "fragment"
    }
   },
   "outputs": [
    {
     "data": {
      "text/html": [
       "<div>\n",
       "<table border=\"1\" class=\"dataframe\">\n",
       "  <thead>\n",
       "    <tr style=\"text-align: right;\">\n",
       "      <th></th>\n",
       "      <th>text</th>\n",
       "      <th>review_overall</th>\n",
       "    </tr>\n",
       "  </thead>\n",
       "  <tbody>\n",
       "    <tr>\n",
       "      <th>0</th>\n",
       "      <td>16</td>\n",
       "      <td>4.00</td>\n",
       "    </tr>\n",
       "    <tr>\n",
       "      <th>1</th>\n",
       "      <td>243</td>\n",
       "      <td>4.00</td>\n",
       "    </tr>\n",
       "    <tr>\n",
       "      <th>2</th>\n",
       "      <td>254</td>\n",
       "      <td>3.25</td>\n",
       "    </tr>\n",
       "    <tr>\n",
       "      <th>3</th>\n",
       "      <td>255</td>\n",
       "      <td>3.00</td>\n",
       "    </tr>\n",
       "    <tr>\n",
       "      <th>4</th>\n",
       "      <td>257</td>\n",
       "      <td>3.75</td>\n",
       "    </tr>\n",
       "    <tr>\n",
       "      <th>...</th>\n",
       "      <td>...</td>\n",
       "      <td>...</td>\n",
       "    </tr>\n",
       "    <tr>\n",
       "      <th>629</th>\n",
       "      <td>2668</td>\n",
       "      <td>4.00</td>\n",
       "    </tr>\n",
       "    <tr>\n",
       "      <th>630</th>\n",
       "      <td>2699</td>\n",
       "      <td>3.50</td>\n",
       "    </tr>\n",
       "    <tr>\n",
       "      <th>631</th>\n",
       "      <td>2764</td>\n",
       "      <td>5.00</td>\n",
       "    </tr>\n",
       "    <tr>\n",
       "      <th>632</th>\n",
       "      <td>3678</td>\n",
       "      <td>4.50</td>\n",
       "    </tr>\n",
       "    <tr>\n",
       "      <th>633</th>\n",
       "      <td>3828</td>\n",
       "      <td>3.50</td>\n",
       "    </tr>\n",
       "  </tbody>\n",
       "</table>\n",
       "<p>634 rows × 2 columns</p>\n",
       "</div>"
      ],
      "text/plain": [
       "     text  review_overall\n",
       "0      16            4.00\n",
       "1     243            4.00\n",
       "2     254            3.25\n",
       "3     255            3.00\n",
       "4     257            3.75\n",
       "..    ...             ...\n",
       "629  2668            4.00\n",
       "630  2699            3.50\n",
       "631  2764            5.00\n",
       "632  3678            4.50\n",
       "633  3828            3.50\n",
       "\n",
       "[634 rows x 2 columns]"
      ]
     },
     "execution_count": 55,
     "metadata": {},
     "output_type": "execute_result"
    }
   ],
   "source": [
    "df.groupby(df.text.str.len()).review_overall.mean().reset_index()"
   ]
  },
  {
   "cell_type": "code",
   "execution_count": 56,
   "metadata": {
    "collapsed": false,
    "slideshow": {
     "slide_type": "fragment"
    }
   },
   "outputs": [
    {
     "data": {
      "text/html": [
       "<div>\n",
       "<table border=\"1\" class=\"dataframe\">\n",
       "  <thead>\n",
       "    <tr style=\"text-align: right;\">\n",
       "      <th></th>\n",
       "      <th>text</th>\n",
       "      <th>review_overall</th>\n",
       "    </tr>\n",
       "  </thead>\n",
       "  <tbody>\n",
       "    <tr>\n",
       "      <th>text</th>\n",
       "      <td>1.000000</td>\n",
       "      <td>0.121439</td>\n",
       "    </tr>\n",
       "    <tr>\n",
       "      <th>review_overall</th>\n",
       "      <td>0.121439</td>\n",
       "      <td>1.000000</td>\n",
       "    </tr>\n",
       "  </tbody>\n",
       "</table>\n",
       "</div>"
      ],
      "text/plain": [
       "                    text  review_overall\n",
       "text            1.000000        0.121439\n",
       "review_overall  0.121439        1.000000"
      ]
     },
     "execution_count": 56,
     "metadata": {},
     "output_type": "execute_result"
    }
   ],
   "source": [
    "df.groupby(df.text.str.len()).review_overall.mean().reset_index().corr()"
   ]
  },
  {
   "cell_type": "code",
   "execution_count": 57,
   "metadata": {
    "collapsed": false,
    "slideshow": {
     "slide_type": "fragment"
    }
   },
   "outputs": [
    {
     "data": {
      "text/plain": [
       "<matplotlib.axes._subplots.AxesSubplot at 0x118b4f0b8>"
      ]
     },
     "execution_count": 57,
     "metadata": {},
     "output_type": "execute_result"
    },
    {
     "data": {
      "image/png": "[encoded data removed]",
      "text/plain": [
       "<matplotlib.figure.Figure at 0x118ac16d8>"
      ]
     },
     "metadata": {},
     "output_type": "display_data"
    }
   ],
   "source": [
    "df.groupby(df.text.str.len()).review_overall.mean().plot(style='.k', figsize=(10, 5))"
   ]
  },
  {
   "cell_type": "markdown",
   "metadata": {
    "slideshow": {
     "slide_type": "fragment"
    }
   },
   "source": [
    "<div class=\"alert alert-info\">\n",
    "  <b>Bonus exercise</b>\n",
    "</div>\n",
    "\n",
    "- Try grouping by the number of words\n",
    "- Try grouping by the number of sentences\n",
    "\n",
    "_Hint_: `str.count` accepts a regular expression..."
   ]
  },
  {
   "cell_type": "markdown",
   "metadata": {
    "slideshow": {
     "slide_type": "subslide"
    }
   },
   "source": [
    "### Example\n",
    "\n",
    "Which **brewer** (`brewer_id`) has the largest gap between the min and max `review_overall` for two of their beers?"
   ]
  },
  {
   "cell_type": "markdown",
   "metadata": {
    "slideshow": {
     "slide_type": "fragment"
    }
   },
   "source": [
    "_Hint_: You'll need to do this in two steps:\n",
    "    1. Find the average `review_overall` by `brewer_id` and `beer_name`.\n",
    "    2. Find the difference between the max and min by brewer (rembember `.groupby(level=)`)"
   ]
  },
  {
   "cell_type": "code",
   "execution_count": 58,
   "metadata": {
    "collapsed": false,
    "slideshow": {
     "slide_type": "fragment"
    }
   },
   "outputs": [
    {
     "data": {
      "text/plain": [
       "brewer_id  beer_name                  \n",
       "3          Pecan Harvest Ale              4.0\n",
       "4          Allagash Burnham Road          4.0\n",
       "           Allagash Dubbel Ale            3.5\n",
       "           Allagash Hugh Malone           4.0\n",
       "           Allagash Interlude             3.5\n",
       "                                         ... \n",
       "20729      37hr Simcoe SMaSH              4.0\n",
       "21239      Schanzenbräu Schwarzbier       3.5\n",
       "21243      Harry's Pale Ale               3.5\n",
       "23058      Hoppy Dog                      2.0\n",
       "23980      Yuengling Traditional Lager    4.5\n",
       "Name: review_overall, dtype: float64"
      ]
     },
     "execution_count": 58,
     "metadata": {},
     "output_type": "execute_result"
    }
   ],
   "source": [
    "avg = (df.groupby(['brewer_id', 'beer_name'])\n",
    "       .review_overall\n",
    "       .mean())\n",
    "avg"
   ]
  },
  {
   "cell_type": "code",
   "execution_count": 59,
   "metadata": {
    "collapsed": false,
    "slideshow": {
     "slide_type": "fragment"
    }
   },
   "outputs": [
    {
     "data": {
      "text/html": [
       "<div>\n",
       "<table border=\"1\" class=\"dataframe\">\n",
       "  <thead>\n",
       "    <tr style=\"text-align: right;\">\n",
       "      <th></th>\n",
       "      <th>min</th>\n",
       "      <th>max</th>\n",
       "    </tr>\n",
       "    <tr>\n",
       "      <th>brewer_id</th>\n",
       "      <th></th>\n",
       "      <th></th>\n",
       "    </tr>\n",
       "  </thead>\n",
       "  <tbody>\n",
       "    <tr>\n",
       "      <th>3</th>\n",
       "      <td>4.0</td>\n",
       "      <td>4.0</td>\n",
       "    </tr>\n",
       "    <tr>\n",
       "      <th>4</th>\n",
       "      <td>3.5</td>\n",
       "      <td>4.5</td>\n",
       "    </tr>\n",
       "    <tr>\n",
       "      <th>8</th>\n",
       "      <td>4.5</td>\n",
       "      <td>4.5</td>\n",
       "    </tr>\n",
       "    <tr>\n",
       "      <th>22</th>\n",
       "      <td>4.0</td>\n",
       "      <td>4.0</td>\n",
       "    </tr>\n",
       "    <tr>\n",
       "      <th>24</th>\n",
       "      <td>4.5</td>\n",
       "      <td>4.5</td>\n",
       "    </tr>\n",
       "    <tr>\n",
       "      <th>...</th>\n",
       "      <td>...</td>\n",
       "      <td>...</td>\n",
       "    </tr>\n",
       "    <tr>\n",
       "      <th>20729</th>\n",
       "      <td>4.0</td>\n",
       "      <td>4.0</td>\n",
       "    </tr>\n",
       "    <tr>\n",
       "      <th>21239</th>\n",
       "      <td>3.5</td>\n",
       "      <td>3.5</td>\n",
       "    </tr>\n",
       "    <tr>\n",
       "      <th>21243</th>\n",
       "      <td>3.5</td>\n",
       "      <td>3.5</td>\n",
       "    </tr>\n",
       "    <tr>\n",
       "      <th>23058</th>\n",
       "      <td>2.0</td>\n",
       "      <td>2.0</td>\n",
       "    </tr>\n",
       "    <tr>\n",
       "      <th>23980</th>\n",
       "      <td>4.5</td>\n",
       "      <td>4.5</td>\n",
       "    </tr>\n",
       "  </tbody>\n",
       "</table>\n",
       "<p>355 rows × 2 columns</p>\n",
       "</div>"
      ],
      "text/plain": [
       "           min  max\n",
       "brewer_id          \n",
       "3          4.0  4.0\n",
       "4          3.5  4.5\n",
       "8          4.5  4.5\n",
       "22         4.0  4.0\n",
       "24         4.5  4.5\n",
       "...        ...  ...\n",
       "20729      4.0  4.0\n",
       "21239      3.5  3.5\n",
       "21243      3.5  3.5\n",
       "23058      2.0  2.0\n",
       "23980      4.5  4.5\n",
       "\n",
       "[355 rows x 2 columns]"
      ]
     },
     "execution_count": 59,
     "metadata": {},
     "output_type": "execute_result"
    }
   ],
   "source": [
    "extrema = avg.groupby(level='brewer_id').agg(['min', 'max'])\n",
    "extrema"
   ]
  },
  {
   "cell_type": "code",
   "execution_count": 60,
   "metadata": {
    "collapsed": false,
    "slideshow": {
     "slide_type": "fragment"
    }
   },
   "outputs": [
    {
     "data": {
      "text/plain": [
       "brewer_id\n",
       "1805     3.000000\n",
       "1141     2.500000\n",
       "113      2.500000\n",
       "35       2.333333\n",
       "13371    2.000000\n",
       "           ...   \n",
       "2089     0.000000\n",
       "2097     0.000000\n",
       "2099     0.000000\n",
       "2171     0.000000\n",
       "3        0.000000\n",
       "dtype: float64"
      ]
     },
     "execution_count": 60,
     "metadata": {},
     "output_type": "execute_result"
    }
   ],
   "source": [
    "difference = extrema['max'] - extrema['min']\n",
    "difference.sort_values(ascending=False)"
   ]
  },
  {
   "cell_type": "markdown",
   "metadata": {
    "slideshow": {
     "slide_type": "subslide"
    }
   },
   "source": [
    "### Example\n",
    "\n",
    "Create a more aggregated \"kind\" of beer, less detailed than `style`"
   ]
  },
  {
   "cell_type": "code",
   "execution_count": 61,
   "metadata": {
    "collapsed": false,
    "slideshow": {
     "slide_type": "fragment"
    }
   },
   "outputs": [
    {
     "data": {
      "text/plain": [
       "0                    american stout\n",
       "1                   american porter\n",
       "2                   german pilsener\n",
       "3    american double / imperial ipa\n",
       "4           american pale ale (apa)\n",
       "Name: beer_style, dtype: object"
      ]
     },
     "execution_count": 61,
     "metadata": {},
     "output_type": "execute_result"
    }
   ],
   "source": [
    "style = df.beer_style.str.lower()\n",
    "style.head()"
   ]
  },
  {
   "cell_type": "code",
   "execution_count": 62,
   "metadata": {
    "collapsed": false,
    "slideshow": {
     "slide_type": "fragment"
    }
   },
   "outputs": [],
   "source": [
    "kinds = ['ipa', 'apa', 'amber ale', 'rye', 'scotch', 'stout', 'barleywine', 'porter', 'brown ale', 'lager', 'pilsner',\n",
    "         'tripel', 'biter', 'farmhouse', 'malt liquour', 'rice']"
   ]
  },
  {
   "cell_type": "code",
   "execution_count": 63,
   "metadata": {
    "collapsed": false,
    "slideshow": {
     "slide_type": "fragment"
    }
   },
   "outputs": [
    {
     "data": {
      "text/plain": [
       "'(?P<ipa>ipa)|(?P<apa>apa)|(?P<amber_ale>amber ale)|(?P<rye>rye)|(?P<scotch>scotch)|(?P<stout>stout)|(?P<barleywine>barleywine)|(?P<porter>porter)|(?P<brown_ale>brown ale)|(?P<lager>lager)|(?P<pilsner>pilsner)|(?P<tripel>tripel)|(?P<biter>biter)|(?P<farmhouse>farmhouse)|(?P<malt_liquour>malt liquour)|(?P<rice>rice)'"
      ]
     },
     "execution_count": 63,
     "metadata": {},
     "output_type": "execute_result"
    }
   ],
   "source": [
    "expr = '|'.join(['(?P<{name}>{pat})'.format(pat=kind, name=kind.replace(' ', '_')) for kind in kinds])\n",
    "expr"
   ]
  },
  {
   "cell_type": "code",
   "execution_count": 64,
   "metadata": {
    "collapsed": false,
    "slideshow": {
     "slide_type": "fragment"
    }
   },
   "outputs": [
    {
     "data": {
      "text/plain": [
       "0     stout\n",
       "1    porter\n",
       "2     other\n",
       "3       ipa\n",
       "4       apa\n",
       "dtype: object"
      ]
     },
     "execution_count": 64,
     "metadata": {},
     "output_type": "execute_result"
    }
   ],
   "source": [
    "beer_kind = (style.replace({'india pale ale': 'ipa',\n",
    "                            'american pale ale': 'apa'})\n",
    "            .str.extract(expr, expand=False).fillna('').sum(1)\n",
    "            .str.lower().replace('', 'other'))\n",
    "beer_kind.head()"
   ]
  },
  {
   "cell_type": "code",
   "execution_count": 69,
   "metadata": {
    "collapsed": false,
    "slideshow": {
     "slide_type": "fragment"
    }
   },
   "outputs": [
    {
     "data": {
      "text/plain": [
       "farmhouse    4.060000\n",
       "ipa          4.009677\n",
       "porter       4.000000\n",
       "stout        3.986239\n",
       "tripel       3.970588\n",
       "Name: review_overall, dtype: float64"
      ]
     },
     "execution_count": 69,
     "metadata": {},
     "output_type": "execute_result"
    }
   ],
   "source": [
    "df.groupby(beer_kind).review_overall.mean().sort_values(ascending=False).head()"
   ]
  },
  {
   "cell_type": "code",
   "execution_count": 70,
   "metadata": {
    "collapsed": false,
    "slideshow": {
     "slide_type": "fragment"
    }
   },
   "outputs": [
    {
     "data": {
      "text/plain": [
       "brewer_id           \n",
       "3          brown ale    4.000000\n",
       "4          ipa          4.000000\n",
       "           other        3.666667\n",
       "           tripel       4.500000\n",
       "8          apa          4.500000\n",
       "                          ...   \n",
       "20729      ipa          4.000000\n",
       "21239      other        3.500000\n",
       "21243      apa          3.500000\n",
       "23058      apa          2.000000\n",
       "23980      lager        4.500000\n",
       "Name: review_overall, dtype: float64"
      ]
     },
     "execution_count": 70,
     "metadata": {},
     "output_type": "execute_result"
    }
   ],
   "source": [
    "df.groupby(['brewer_id', beer_kind]).review_overall.mean()"
   ]
  },
  {
   "cell_type": "markdown",
   "metadata": {
    "slideshow": {
     "slide_type": "fragment"
    }
   },
   "source": [
    "Finding the number of beers of each kind by brewer:"
   ]
  },
  {
   "cell_type": "code",
   "execution_count": 72,
   "metadata": {
    "collapsed": false,
    "slideshow": {
     "slide_type": "fragment"
    }
   },
   "outputs": [
    {
     "data": {
      "text/html": [
       "<div>\n",
       "<table border=\"1\" class=\"dataframe\">\n",
       "  <thead>\n",
       "    <tr style=\"text-align: right;\">\n",
       "      <th></th>\n",
       "      <th>apa</th>\n",
       "      <th>barleywine</th>\n",
       "      <th>brown ale</th>\n",
       "      <th>farmhouse</th>\n",
       "      <th>ipa</th>\n",
       "      <th>lager</th>\n",
       "      <th>other</th>\n",
       "      <th>pilsner</th>\n",
       "      <th>porter</th>\n",
       "      <th>rye</th>\n",
       "      <th>scotch</th>\n",
       "      <th>stout</th>\n",
       "      <th>tripel</th>\n",
       "    </tr>\n",
       "    <tr>\n",
       "      <th>brewer_id</th>\n",
       "      <th></th>\n",
       "      <th></th>\n",
       "      <th></th>\n",
       "      <th></th>\n",
       "      <th></th>\n",
       "      <th></th>\n",
       "      <th></th>\n",
       "      <th></th>\n",
       "      <th></th>\n",
       "      <th></th>\n",
       "      <th></th>\n",
       "      <th></th>\n",
       "      <th></th>\n",
       "    </tr>\n",
       "  </thead>\n",
       "  <tbody>\n",
       "    <tr>\n",
       "      <th>3</th>\n",
       "      <td>0.0</td>\n",
       "      <td>0.0</td>\n",
       "      <td>1.0</td>\n",
       "      <td>0.0</td>\n",
       "      <td>0.0</td>\n",
       "      <td>0.0</td>\n",
       "      <td>0.0</td>\n",
       "      <td>0.0</td>\n",
       "      <td>0.0</td>\n",
       "      <td>0.0</td>\n",
       "      <td>0.0</td>\n",
       "      <td>0.0</td>\n",
       "      <td>0.0</td>\n",
       "    </tr>\n",
       "    <tr>\n",
       "      <th>4</th>\n",
       "      <td>0.0</td>\n",
       "      <td>0.0</td>\n",
       "      <td>0.0</td>\n",
       "      <td>0.0</td>\n",
       "      <td>1.0</td>\n",
       "      <td>0.0</td>\n",
       "      <td>3.0</td>\n",
       "      <td>0.0</td>\n",
       "      <td>0.0</td>\n",
       "      <td>0.0</td>\n",
       "      <td>0.0</td>\n",
       "      <td>0.0</td>\n",
       "      <td>1.0</td>\n",
       "    </tr>\n",
       "    <tr>\n",
       "      <th>8</th>\n",
       "      <td>1.0</td>\n",
       "      <td>0.0</td>\n",
       "      <td>0.0</td>\n",
       "      <td>0.0</td>\n",
       "      <td>0.0</td>\n",
       "      <td>0.0</td>\n",
       "      <td>0.0</td>\n",
       "      <td>0.0</td>\n",
       "      <td>0.0</td>\n",
       "      <td>0.0</td>\n",
       "      <td>0.0</td>\n",
       "      <td>0.0</td>\n",
       "      <td>0.0</td>\n",
       "    </tr>\n",
       "    <tr>\n",
       "      <th>22</th>\n",
       "      <td>0.0</td>\n",
       "      <td>0.0</td>\n",
       "      <td>0.0</td>\n",
       "      <td>0.0</td>\n",
       "      <td>0.0</td>\n",
       "      <td>0.0</td>\n",
       "      <td>3.0</td>\n",
       "      <td>0.0</td>\n",
       "      <td>0.0</td>\n",
       "      <td>0.0</td>\n",
       "      <td>0.0</td>\n",
       "      <td>0.0</td>\n",
       "      <td>1.0</td>\n",
       "    </tr>\n",
       "    <tr>\n",
       "      <th>24</th>\n",
       "      <td>0.0</td>\n",
       "      <td>0.0</td>\n",
       "      <td>0.0</td>\n",
       "      <td>0.0</td>\n",
       "      <td>0.0</td>\n",
       "      <td>0.0</td>\n",
       "      <td>0.0</td>\n",
       "      <td>0.0</td>\n",
       "      <td>0.0</td>\n",
       "      <td>0.0</td>\n",
       "      <td>1.0</td>\n",
       "      <td>0.0</td>\n",
       "      <td>0.0</td>\n",
       "    </tr>\n",
       "  </tbody>\n",
       "</table>\n",
       "</div>"
      ],
      "text/plain": [
       "           apa  barleywine  brown ale  farmhouse  ipa  lager  other  pilsner  \\\n",
       "brewer_id                                                                      \n",
       "3          0.0         0.0        1.0        0.0  0.0    0.0    0.0      0.0   \n",
       "4          0.0         0.0        0.0        0.0  1.0    0.0    3.0      0.0   \n",
       "8          1.0         0.0        0.0        0.0  0.0    0.0    0.0      0.0   \n",
       "22         0.0         0.0        0.0        0.0  0.0    0.0    3.0      0.0   \n",
       "24         0.0         0.0        0.0        0.0  0.0    0.0    0.0      0.0   \n",
       "\n",
       "           porter  rye  scotch  stout  tripel  \n",
       "brewer_id                                      \n",
       "3             0.0  0.0     0.0    0.0     0.0  \n",
       "4             0.0  0.0     0.0    0.0     1.0  \n",
       "8             0.0  0.0     0.0    0.0     0.0  \n",
       "22            0.0  0.0     0.0    0.0     1.0  \n",
       "24            0.0  0.0     1.0    0.0     0.0  "
      ]
     },
     "execution_count": 72,
     "metadata": {},
     "output_type": "execute_result"
    }
   ],
   "source": [
    "df.groupby(['brewer_id', beer_kind]).beer_id.nunique().unstack(1).fillna(0).head()"
   ]
  },
  {
   "cell_type": "markdown",
   "metadata": {
    "slideshow": {
     "slide_type": "slide"
    }
   },
   "source": [
    "We've seen a lot of permutations among number of groupers, number of columns to aggregate, and number of aggregators.\n",
    "\n",
    "\n",
    "In fact, the `.agg`, which returns one row per group, is just one kind of way to combine the results. The three ways are\n",
    "\n",
    "- `agg`: one row per results\n",
    "- `transform`: identically shaped output as input\n",
    "- `apply`: anything goes"
   ]
  },
  {
   "cell_type": "markdown",
   "metadata": {
    "slideshow": {
     "slide_type": "slide"
    }
   },
   "source": [
    "### Transform\n",
    "\n",
    "Combined `Series`/`DataFrame` is the same shape as the input. "
   ]
  },
  {
   "cell_type": "markdown",
   "metadata": {
    "slideshow": {
     "slide_type": "fragment"
    }
   },
   "source": [
    "For example, say you want to standardize the reviews by subtracting the mean."
   ]
  },
  {
   "cell_type": "code",
   "execution_count": 77,
   "metadata": {
    "collapsed": false
   },
   "outputs": [
    {
     "data": {
      "text/html": [
       "<div>\n",
       "<table border=\"1\" class=\"dataframe\">\n",
       "  <thead>\n",
       "    <tr style=\"text-align: right;\">\n",
       "      <th></th>\n",
       "      <th>abv</th>\n",
       "      <th>beer_id</th>\n",
       "      <th>brewer_id</th>\n",
       "      <th>beer_name</th>\n",
       "      <th>beer_style</th>\n",
       "      <th>review_appearance</th>\n",
       "      <th>review_aroma</th>\n",
       "      <th>review_overall</th>\n",
       "      <th>review_palate</th>\n",
       "      <th>profile_name</th>\n",
       "      <th>review_taste</th>\n",
       "      <th>text</th>\n",
       "      <th>time</th>\n",
       "    </tr>\n",
       "  </thead>\n",
       "  <tbody>\n",
       "    <tr>\n",
       "      <th>0</th>\n",
       "      <td>7.0</td>\n",
       "      <td>2511</td>\n",
       "      <td>287</td>\n",
       "      <td>Bell's Cherry Stout</td>\n",
       "      <td>American Stout</td>\n",
       "      <td>4.5</td>\n",
       "      <td>4.0</td>\n",
       "      <td>4.5</td>\n",
       "      <td>4.0</td>\n",
       "      <td>blaheath</td>\n",
       "      <td>4.5</td>\n",
       "      <td>Batch 8144\\tPitch black in color with a 1/2 f...</td>\n",
       "      <td>2009-10-05 21:31:48</td>\n",
       "    </tr>\n",
       "    <tr>\n",
       "      <th>1</th>\n",
       "      <td>5.7</td>\n",
       "      <td>19736</td>\n",
       "      <td>9790</td>\n",
       "      <td>Duck-Rabbit Porter</td>\n",
       "      <td>American Porter</td>\n",
       "      <td>4.5</td>\n",
       "      <td>4.0</td>\n",
       "      <td>4.5</td>\n",
       "      <td>4.0</td>\n",
       "      <td>GJ40</td>\n",
       "      <td>4.0</td>\n",
       "      <td>Sampled from a 12oz bottle in a standard pint...</td>\n",
       "      <td>2009-10-05 21:32:09</td>\n",
       "    </tr>\n",
       "    <tr>\n",
       "      <th>2</th>\n",
       "      <td>4.8</td>\n",
       "      <td>11098</td>\n",
       "      <td>3182</td>\n",
       "      <td>Fürstenberg Premium Pilsener</td>\n",
       "      <td>German Pilsener</td>\n",
       "      <td>4.0</td>\n",
       "      <td>3.0</td>\n",
       "      <td>3.0</td>\n",
       "      <td>3.0</td>\n",
       "      <td>biegaman</td>\n",
       "      <td>3.5</td>\n",
       "      <td>Haystack yellow with an energetic group of bu...</td>\n",
       "      <td>2009-10-05 21:32:13</td>\n",
       "    </tr>\n",
       "    <tr>\n",
       "      <th>3</th>\n",
       "      <td>9.5</td>\n",
       "      <td>28577</td>\n",
       "      <td>3818</td>\n",
       "      <td>Unearthly (Imperial India Pale Ale)</td>\n",
       "      <td>American Double / Imperial IPA</td>\n",
       "      <td>4.0</td>\n",
       "      <td>4.0</td>\n",
       "      <td>4.0</td>\n",
       "      <td>4.0</td>\n",
       "      <td>nick76</td>\n",
       "      <td>4.0</td>\n",
       "      <td>The aroma has pine, wood, citrus, caramel, an...</td>\n",
       "      <td>2009-10-05 21:32:37</td>\n",
       "    </tr>\n",
       "    <tr>\n",
       "      <th>4</th>\n",
       "      <td>5.8</td>\n",
       "      <td>398</td>\n",
       "      <td>119</td>\n",
       "      <td>Wolaver's Pale Ale</td>\n",
       "      <td>American Pale Ale (APA)</td>\n",
       "      <td>4.0</td>\n",
       "      <td>3.0</td>\n",
       "      <td>4.0</td>\n",
       "      <td>3.5</td>\n",
       "      <td>champ103</td>\n",
       "      <td>3.0</td>\n",
       "      <td>A: Pours a slightly hazy golden/orange color....</td>\n",
       "      <td>2009-10-05 21:33:14</td>\n",
       "    </tr>\n",
       "  </tbody>\n",
       "</table>\n",
       "</div>"
      ],
      "text/plain": [
       "   abv  beer_id  brewer_id                            beer_name  \\\n",
       "0  7.0     2511        287                  Bell's Cherry Stout   \n",
       "1  5.7    19736       9790                   Duck-Rabbit Porter   \n",
       "2  4.8    11098       3182         Fürstenberg Premium Pilsener   \n",
       "3  9.5    28577       3818  Unearthly (Imperial India Pale Ale)   \n",
       "4  5.8      398        119                   Wolaver's Pale Ale   \n",
       "\n",
       "                       beer_style  review_appearance  review_aroma  \\\n",
       "0                  American Stout                4.5           4.0   \n",
       "1                 American Porter                4.5           4.0   \n",
       "2                 German Pilsener                4.0           3.0   \n",
       "3  American Double / Imperial IPA                4.0           4.0   \n",
       "4         American Pale Ale (APA)                4.0           3.0   \n",
       "\n",
       "   review_overall  review_palate profile_name  review_taste  \\\n",
       "0             4.5            4.0     blaheath           4.5   \n",
       "1             4.5            4.0         GJ40           4.0   \n",
       "2             3.0            3.0     biegaman           3.5   \n",
       "3             4.0            4.0       nick76           4.0   \n",
       "4             4.0            3.5     champ103           3.0   \n",
       "\n",
       "                                                text                time  \n",
       "0   Batch 8144\\tPitch black in color with a 1/2 f... 2009-10-05 21:31:48  \n",
       "1   Sampled from a 12oz bottle in a standard pint... 2009-10-05 21:32:09  \n",
       "2   Haystack yellow with an energetic group of bu... 2009-10-05 21:32:13  \n",
       "3   The aroma has pine, wood, citrus, caramel, an... 2009-10-05 21:32:37  \n",
       "4   A: Pours a slightly hazy golden/orange color.... 2009-10-05 21:33:14  "
      ]
     },
     "execution_count": 77,
     "metadata": {},
     "output_type": "execute_result"
    }
   ],
   "source": [
    "df.head()"
   ]
  },
  {
   "cell_type": "code",
   "execution_count": 79,
   "metadata": {
    "collapsed": true,
    "slideshow": {
     "slide_type": "fragment"
    }
   },
   "outputs": [],
   "source": [
    "def de_mean(reviews):\n",
    "    s = reviews - reviews.mean()\n",
    "    return s"
   ]
  },
  {
   "cell_type": "code",
   "execution_count": 74,
   "metadata": {
    "collapsed": false,
    "slideshow": {
     "slide_type": "fragment"
    }
   },
   "outputs": [
    {
     "data": {
      "text/plain": [
       "0      0.652653\n",
       "1      0.652653\n",
       "2     -0.847347\n",
       "3      0.152653\n",
       "4      0.152653\n",
       "         ...   \n",
       "994   -0.347347\n",
       "995    1.152653\n",
       "996   -1.347347\n",
       "997   -0.347347\n",
       "998   -0.847347\n",
       "Name: review_overall, dtype: float64"
      ]
     },
     "execution_count": 74,
     "metadata": {},
     "output_type": "execute_result"
    }
   ],
   "source": [
    "de_mean(df.review_overall)"
   ]
  },
  {
   "cell_type": "markdown",
   "metadata": {
    "slideshow": {
     "slide_type": "fragment"
    }
   },
   "source": [
    "We can do this at the *person* level with `groupby` and `transform`."
   ]
  },
  {
   "cell_type": "code",
   "execution_count": 86,
   "metadata": {
    "collapsed": false
   },
   "outputs": [],
   "source": [
    "df['review_overall_demeaned'] = df.groupby('profile_name').review_overall.transform(de_mean)"
   ]
  },
  {
   "cell_type": "markdown",
   "metadata": {
    "slideshow": {
     "slide_type": "fragment"
    }
   },
   "source": [
    "This uses the *group* means instead of the overall means"
   ]
  },
  {
   "cell_type": "code",
   "execution_count": 87,
   "metadata": {
    "collapsed": false
   },
   "outputs": [
    {
     "data": {
      "text/html": [
       "<div>\n",
       "<table border=\"1\" class=\"dataframe\">\n",
       "  <thead>\n",
       "    <tr style=\"text-align: right;\">\n",
       "      <th></th>\n",
       "      <th>profile_name</th>\n",
       "      <th>review_overall</th>\n",
       "      <th>review_overall_demeaned</th>\n",
       "    </tr>\n",
       "  </thead>\n",
       "  <tbody>\n",
       "    <tr>\n",
       "      <th>140</th>\n",
       "      <td>05Harley</td>\n",
       "      <td>4.0</td>\n",
       "      <td>0.0000</td>\n",
       "    </tr>\n",
       "    <tr>\n",
       "      <th>461</th>\n",
       "      <td>ADZA</td>\n",
       "      <td>3.5</td>\n",
       "      <td>0.0000</td>\n",
       "    </tr>\n",
       "    <tr>\n",
       "      <th>23</th>\n",
       "      <td>ALeF</td>\n",
       "      <td>5.0</td>\n",
       "      <td>0.0000</td>\n",
       "    </tr>\n",
       "    <tr>\n",
       "      <th>789</th>\n",
       "      <td>ATPete</td>\n",
       "      <td>3.0</td>\n",
       "      <td>-0.8125</td>\n",
       "    </tr>\n",
       "    <tr>\n",
       "      <th>855</th>\n",
       "      <td>ATPete</td>\n",
       "      <td>2.5</td>\n",
       "      <td>-1.3125</td>\n",
       "    </tr>\n",
       "    <tr>\n",
       "      <th>851</th>\n",
       "      <td>ATPete</td>\n",
       "      <td>4.0</td>\n",
       "      <td>0.1875</td>\n",
       "    </tr>\n",
       "    <tr>\n",
       "      <th>819</th>\n",
       "      <td>ATPete</td>\n",
       "      <td>4.5</td>\n",
       "      <td>0.6875</td>\n",
       "    </tr>\n",
       "    <tr>\n",
       "      <th>808</th>\n",
       "      <td>ATPete</td>\n",
       "      <td>4.0</td>\n",
       "      <td>0.1875</td>\n",
       "    </tr>\n",
       "    <tr>\n",
       "      <th>802</th>\n",
       "      <td>ATPete</td>\n",
       "      <td>4.0</td>\n",
       "      <td>0.1875</td>\n",
       "    </tr>\n",
       "    <tr>\n",
       "      <th>773</th>\n",
       "      <td>ATPete</td>\n",
       "      <td>5.0</td>\n",
       "      <td>1.1875</td>\n",
       "    </tr>\n",
       "  </tbody>\n",
       "</table>\n",
       "</div>"
      ],
      "text/plain": [
       "    profile_name  review_overall  review_overall_demeaned\n",
       "140     05Harley             4.0                   0.0000\n",
       "461         ADZA             3.5                   0.0000\n",
       "23          ALeF             5.0                   0.0000\n",
       "789       ATPete             3.0                  -0.8125\n",
       "855       ATPete             2.5                  -1.3125\n",
       "851       ATPete             4.0                   0.1875\n",
       "819       ATPete             4.5                   0.6875\n",
       "808       ATPete             4.0                   0.1875\n",
       "802       ATPete             4.0                   0.1875\n",
       "773       ATPete             5.0                   1.1875"
      ]
     },
     "execution_count": 87,
     "metadata": {},
     "output_type": "execute_result"
    }
   ],
   "source": [
    "df[['profile_name','review_overall','review_overall_demeaned']].sort_values('profile_name').head(10)"
   ]
  },
  {
   "cell_type": "markdown",
   "metadata": {
    "slideshow": {
     "slide_type": "subslide"
    }
   },
   "source": [
    "## Apply\n",
    "\n",
    "- `.apply()` can return all sorts of things, doesn't have to be the same shape...\n",
    "- Lots of uses, too many to go into..."
   ]
  },
  {
   "cell_type": "code",
   "execution_count": 98,
   "metadata": {
    "collapsed": true,
    "slideshow": {
     "slide_type": "fragment"
    }
   },
   "outputs": [],
   "source": [
    "def something(x):\n",
    "    return x['review_appearance'].max() - x['review_aroma'].min()"
   ]
  },
  {
   "cell_type": "code",
   "execution_count": 99,
   "metadata": {
    "collapsed": false,
    "slideshow": {
     "slide_type": "fragment"
    }
   },
   "outputs": [
    {
     "data": {
      "text/plain": [
       "beer_style\n",
       "Altbier                       1.0\n",
       "American Adjunct Lager        2.5\n",
       "American Amber / Red Ale      3.0\n",
       "American Amber / Red Lager    2.5\n",
       "American Barleywine           1.5\n",
       "                             ... \n",
       "Tripel                        1.5\n",
       "Vienna Lager                  1.5\n",
       "Weizenbock                    0.5\n",
       "Wheatwine                     0.5\n",
       "Witbier                       2.0\n",
       "dtype: float64"
      ]
     },
     "execution_count": 99,
     "metadata": {},
     "output_type": "execute_result"
    }
   ],
   "source": [
    "df.groupby('beer_style').apply(something)"
   ]
  },
  {
   "cell_type": "markdown",
   "metadata": {
    "slideshow": {
     "slide_type": "fragment"
    }
   },
   "source": [
    "Or more succinctly as a `lambda` function:"
   ]
  },
  {
   "cell_type": "code",
   "execution_count": 100,
   "metadata": {
    "collapsed": false
   },
   "outputs": [
    {
     "data": {
      "text/plain": [
       "beer_style\n",
       "Altbier                       1.0\n",
       "American Adjunct Lager        2.5\n",
       "American Amber / Red Ale      3.0\n",
       "American Amber / Red Lager    2.5\n",
       "American Barleywine           1.5\n",
       "                             ... \n",
       "Tripel                        1.5\n",
       "Vienna Lager                  1.5\n",
       "Weizenbock                    0.5\n",
       "Wheatwine                     0.5\n",
       "Witbier                       2.0\n",
       "dtype: float64"
      ]
     },
     "execution_count": 100,
     "metadata": {},
     "output_type": "execute_result"
    }
   ],
   "source": [
    "df.groupby('beer_style').apply(lambda x: x['review_appearance'].max() - x['review_aroma'].min())"
   ]
  },
  {
   "cell_type": "code",
   "execution_count": null,
   "metadata": {
    "collapsed": true
   },
   "outputs": [],
   "source": []
  },
  {
   "cell_type": "code",
   "execution_count": null,
   "metadata": {
    "collapsed": true
   },
   "outputs": [],
   "source": []
  },
  {
   "cell_type": "code",
   "execution_count": null,
   "metadata": {
    "collapsed": true
   },
   "outputs": [],
   "source": []
  },
  {
   "cell_type": "markdown",
   "metadata": {
    "slideshow": {
     "slide_type": "slide"
    }
   },
   "source": [
    "## References\n",
    "\n",
    "Slide materials inspired by and adapted from [Chris Fonnesbeck](https://github.com/fonnesbeck/statistical-analysis-python-tutorial) and [Tom Augspurger](https://github.com/TomAugspurger/pydata-chi-h2t)"
   ]
  }
 ],
 "metadata": {
  "anaconda-cloud": {},
  "celltoolbar": "Slideshow",
  "kernelspec": {
   "display_name": "Python [conda root]",
   "language": "python",
   "name": "conda-root-py"
  },
  "language_info": {
   "codemirror_mode": {
    "name": "ipython",
    "version": 3
   },
   "file_extension": ".py",
   "mimetype": "text/x-python",
   "name": "python",
   "nbconvert_exporter": "python",
   "pygments_lexer": "ipython3",
   "version": "3.5.2"
  }
 },
 "nbformat": 4,
 "nbformat_minor": 1
}
