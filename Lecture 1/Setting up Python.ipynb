{
 "cells": [
  {
   "cell_type": "markdown",
   "metadata": {
    "nbpresent": {
     "id": "4b9d28ce-3b35-44b0-a75a-c914b4f796c0"
    },
    "slideshow": {
     "slide_type": "slide"
    }
   },
   "source": [
    "# Scientific Computing in Python"
   ]
  },
  {
   "cell_type": "markdown",
   "metadata": {
    "nbpresent": {
     "id": "6e5fe00f-d9d2-41c9-b13c-c11db3e0ff9c"
    },
    "slideshow": {
     "slide_type": "subslide"
    }
   },
   "source": [
    "## Kyle Foreman\n",
    "## [kfor@uw.edu](mailto:kfor@uw.edu)"
   ]
  },
  {
   "cell_type": "markdown",
   "metadata": {
    "nbpresent": {
     "id": "9c55ca01-7488-41c6-9719-20ae76a48a0c"
    }
   },
   "source": [
    "# Why Python?\n",
    "- A\n",
    "- B\n",
    "- C"
   ]
  },
  {
   "cell_type": "markdown",
   "metadata": {
    "nbpresent": {
     "id": "1f8f9f04-9e62-4aab-b7a1-f5cc1abd34f7"
    }
   },
   "source": [
    "# Schedule\n",
    "\n",
    "| Session      | Title               | Description                                  |\n",
    "|--------------|---------------------|----------------------------------------------|\n",
    "| Lecture 1    | Setup               | _Intro, Installation, Jupyter notebooks_     |\n",
    "| Lecture 2    | Basic Python        | _Syntax, data structures, control flow, etc_ |\n",
    "| Exercise 1   | My First Notebook   | _..._                                        |\n",
    "| Lecture 3    | Pandas I            | _Reading data, dataframe basics_             |\n"
   ]
  },
  {
   "cell_type": "code",
   "execution_count": 13,
   "metadata": {
    "collapsed": false,
    "nbpresent": {
     "id": "9bb67a03-e804-48cb-91cb-c9576127a0f1"
    },
    "slideshow": {
     "slide_type": "subslide"
    }
   },
   "outputs": [
    {
     "name": "stdout",
     "output_type": "stream",
     "text": [
      "Hello, world!\n"
     ]
    }
   ],
   "source": [
    "print('Hello, world!')"
   ]
  },
  {
   "cell_type": "code",
   "execution_count": 6,
   "metadata": {
    "collapsed": false,
    "nbpresent": {
     "id": "d54e1266-70af-4456-b098-6a589bdb211c"
    }
   },
   "outputs": [],
   "source": [
    "import numpy as np"
   ]
  },
  {
   "cell_type": "code",
   "execution_count": 9,
   "metadata": {
    "collapsed": false,
    "nbpresent": {
     "id": "ded97807-e15d-4333-ba9e-ed6ecff1f9fe"
    }
   },
   "outputs": [],
   "source": [
    "y = np.arange(10)"
   ]
  },
  {
   "cell_type": "code",
   "execution_count": 14,
   "metadata": {
    "collapsed": false,
    "nbpresent": {
     "id": "4c757002-99ad-4768-a455-87e4a7ed8664"
    }
   },
   "outputs": [],
   "source": [
    "a = 100. * np.exp(.03*y)\n",
    "b = 200. * np.exp(.07*y)\n",
    "c = a + b"
   ]
  },
  {
   "cell_type": "code",
   "execution_count": 11,
   "metadata": {
    "collapsed": false,
    "nbpresent": {
     "id": "02061603-706a-404e-bfdb-34a5c319f811"
    }
   },
   "outputs": [
    {
     "name": "stdout",
     "output_type": "stream",
     "text": [
      "0.03\n",
      "0.03\n",
      "0.03\n",
      "0.03\n",
      "0.03\n",
      "0.03\n",
      "0.03\n",
      "0.03\n"
     ]
    }
   ],
   "source": [
    "for t in np.arange(1,9):\n",
    "    print((np.log(a[t]) - np.log(a[t-1])))"
   ]
  },
  {
   "cell_type": "code",
   "execution_count": 12,
   "metadata": {
    "collapsed": false,
    "nbpresent": {
     "id": "c510c6de-cf51-4a6f-9363-2a53daa8ec4e"
    }
   },
   "outputs": [
    {
     "name": "stdout",
     "output_type": "stream",
     "text": [
      "0.0568436465254\n",
      "0.0571943539021\n",
      "0.0575400520496\n",
      "0.0578805770245\n",
      "0.0582157778995\n",
      "0.0585455168077\n",
      "0.0588696689285\n",
      "0.0591881224152\n"
     ]
    }
   ],
   "source": [
    "for t in np.arange(1,9):\n",
    "    print((np.log(c[t]) - np.log(c[t-1])))"
   ]
  }
 ],
 "metadata": {
  "anaconda-cloud": {},
  "celltoolbar": "Raw Cell Format",
  "kernelspec": {
   "display_name": "Python [Root]",
   "language": "python",
   "name": "Python [Root]"
  },
  "language_info": {
   "codemirror_mode": {
    "name": "ipython",
    "version": 3
   },
   "file_extension": ".py",
   "mimetype": "text/x-python",
   "name": "python",
   "nbconvert_exporter": "python",
   "pygments_lexer": "ipython3",
   "version": "3.5.2"
  },
  "nbpresent": {
   "slides": {
    "1fa276e9-b45f-43b8-8a01-af5eadc5962c": {
     "id": "1fa276e9-b45f-43b8-8a01-af5eadc5962c",
     "prev": "63a66061-e6ef-468f-8ce1-6972cbe4c2c6",
     "regions": {
      "30687a2b-31da-48ef-81d4-7205382cc0ac": {
       "attrs": {
        "height": 0.6,
        "width": 0.8,
        "x": 0.1,
        "y": 0.1
       },
       "content": {
        "cell": "d54e1266-70af-4456-b098-6a589bdb211c",
        "part": "whole"
       },
       "id": "30687a2b-31da-48ef-81d4-7205382cc0ac"
      },
      "6a1550a9-7a68-4ba2-8b35-179584fc3e10": {
       "attrs": {
        "height": 0.2,
        "width": 0.4,
        "x": 0.5,
        "y": 0.7
       },
       "content": {
        "cell": "4c757002-99ad-4768-a455-87e4a7ed8664",
        "part": "whole"
       },
       "id": "6a1550a9-7a68-4ba2-8b35-179584fc3e10"
      },
      "d5b21185-f737-47c1-8d34-6f4174a52354": {
       "attrs": {
        "height": 0.2,
        "width": 0.4,
        "x": 0.1,
        "y": 0.7
       },
       "content": {
        "cell": "ded97807-e15d-4333-ba9e-ed6ecff1f9fe",
        "part": "whole"
       },
       "id": "d5b21185-f737-47c1-8d34-6f4174a52354"
      }
     }
    },
    "63a66061-e6ef-468f-8ce1-6972cbe4c2c6": {
     "id": "63a66061-e6ef-468f-8ce1-6972cbe4c2c6",
     "prev": "ee1dc0f3-42a9-45e6-ab1c-14f916478aa6",
     "regions": {
      "bc01d574-fb6b-41e1-beb6-9186575c96f1": {
       "attrs": {
        "height": 0.8,
        "width": 0.8,
        "x": 0.1,
        "y": 0.1
       },
       "content": {
        "cell": "9c55ca01-7488-41c6-9719-20ae76a48a0c",
        "part": "whole"
       },
       "id": "bc01d574-fb6b-41e1-beb6-9186575c96f1"
      }
     },
     "theme": "ba9e49ef-d0b6-4172-9ab1-7ff1742bbefd"
    },
    "91df12e3-99b3-4dd4-a47e-d6b1680395fd": {
     "id": "91df12e3-99b3-4dd4-a47e-d6b1680395fd",
     "layout": "grid",
     "prev": null,
     "regions": {
      "0aae0db4-32aa-4b07-a012-d2bf05eeb26e": {
       "attrs": {
        "height": 0.5,
        "pad": 0.01,
        "width": 0.8333333333333334,
        "x": 0.08333333333333333,
        "y": 0.4166666666666667
       },
       "content": {
        "cell": "6e5fe00f-d9d2-41c9-b13c-c11db3e0ff9c",
        "part": "whole"
       },
       "id": "0aae0db4-32aa-4b07-a012-d2bf05eeb26e"
      },
      "673bb9d4-7f92-4204-b579-a2995635d66b": {
       "attrs": {
        "height": 0.3333333333333333,
        "pad": 0.01,
        "width": 0.8333333333333334,
        "x": 0.08333333333333333,
        "y": 0.08333333333333333
       },
       "content": {
        "cell": "4b9d28ce-3b35-44b0-a75a-c914b4f796c0",
        "part": "whole"
       },
       "id": "673bb9d4-7f92-4204-b579-a2995635d66b"
      }
     },
     "theme": "c92ca27a-fe48-4bb8-81fd-a6c502c83092"
    },
    "ee1dc0f3-42a9-45e6-ab1c-14f916478aa6": {
     "id": "ee1dc0f3-42a9-45e6-ab1c-14f916478aa6",
     "prev": "91df12e3-99b3-4dd4-a47e-d6b1680395fd",
     "regions": {
      "e04e81d8-1116-4d40-8efc-4f2b5ca2c486": {
       "attrs": {
        "height": 0.8,
        "width": 0.8,
        "x": 0.1,
        "y": 0.1
       },
       "content": {
        "cell": "1f8f9f04-9e62-4aab-b7a1-f5cc1abd34f7",
        "part": "whole"
       },
       "id": "e04e81d8-1116-4d40-8efc-4f2b5ca2c486"
      }
     },
     "theme": "c92ca27a-fe48-4bb8-81fd-a6c502c83092"
    }
   },
   "themes": {
    "default": "c92ca27a-fe48-4bb8-81fd-a6c502c83092",
    "theme": {
     "c92ca27a-fe48-4bb8-81fd-a6c502c83092": {
      "id": "c92ca27a-fe48-4bb8-81fd-a6c502c83092",
      "palette": {
       "19cc588f-0593-49c9-9f4b-e4d7cc113b1c": {
        "id": "19cc588f-0593-49c9-9f4b-e4d7cc113b1c",
        "rgb": [
         252,
         252,
         252
        ]
       },
       "31af15d2-7e15-44c5-ab5e-e04b16a89eff": {
        "id": "31af15d2-7e15-44c5-ab5e-e04b16a89eff",
        "rgb": [
         68,
         68,
         68
        ]
       },
       "50f92c45-a630-455b-aec3-788680ec7410": {
        "id": "50f92c45-a630-455b-aec3-788680ec7410",
        "rgb": [
         155,
         177,
         192
        ]
       },
       "c5cc3653-2ee1-402a-aba2-7caae1da4f6c": {
        "id": "c5cc3653-2ee1-402a-aba2-7caae1da4f6c",
        "rgb": [
         43,
         126,
         184
        ]
       },
       "efa7f048-9acb-414c-8b04-a26811511a21": {
        "id": "efa7f048-9acb-414c-8b04-a26811511a21",
        "rgb": [
         25.118061674008803,
         73.60176211453744,
         107.4819383259912
        ]
       }
      },
      "rules": {
       "blockquote": {
        "color": "50f92c45-a630-455b-aec3-788680ec7410"
       },
       "code": {
        "font-family": "Anonymous Pro"
       },
       "h1": {
        "color": "c5cc3653-2ee1-402a-aba2-7caae1da4f6c",
        "font-family": "Lato",
        "font-size": 8
       },
       "h2": {
        "color": "c5cc3653-2ee1-402a-aba2-7caae1da4f6c",
        "font-family": "Lato",
        "font-size": 6
       },
       "h3": {
        "color": "50f92c45-a630-455b-aec3-788680ec7410",
        "font-family": "Lato",
        "font-size": 5.5
       },
       "h4": {
        "color": "c5cc3653-2ee1-402a-aba2-7caae1da4f6c",
        "font-family": "Lato",
        "font-size": 5
       },
       "h5": {
        "font-family": "Lato"
       },
       "h6": {
        "font-family": "Lato"
       },
       "h7": {
        "font-family": "Lato"
       },
       "pre": {
        "font-family": "Anonymous Pro",
        "font-size": 4
       }
      },
      "text-base": {
       "font-family": "Merriweather",
       "font-size": 4
      }
     }
    }
   }
  }
 },
 "nbformat": 4,
 "nbformat_minor": 0
}
